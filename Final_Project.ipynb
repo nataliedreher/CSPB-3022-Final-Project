{
 "cells": [
  {
   "cell_type": "markdown",
   "id": "534900ca-c53e-4a61-95b9-5cb8b98c2781",
   "metadata": {},
   "source": [
    "# Predicting Home Prices"
   ]
  },
  {
   "cell_type": "code",
   "execution_count": 313,
   "id": "4402e2bd-a1d0-4445-abe2-ee3194ec06cf",
   "metadata": {},
   "outputs": [],
   "source": [
    "import pandas as pd\n",
    "import matplotlib.pyplot as plt\n",
    "import numpy as np\n",
    "import scipy\n",
    "import scipy.stats as stats\n",
    "import math\n",
    "import seaborn as sns\n",
    "import statsmodels.formula.api as smf\n",
    "import statsmodels.api as sm\n",
    "from statsmodels.stats.outliers_influence import variance_inflation_factor as vif\n",
    "from sklearn.preprocessing import StandardScaler\n",
    "from sklearn.model_selection import train_test_split\n",
    "from sklearn.decomposition import PCA\n",
    "  "
   ]
  },
  {
   "cell_type": "markdown",
   "id": "75621986-9e0f-4e0a-897e-7bb062176fd9",
   "metadata": {
    "tags": []
   },
   "source": [
    "## Project Topic\n",
    "<br>\n",
    "For my project I will be running a linear regression to predict house prices based on number of bedrooms, number of bathrooms, lot size, zip code, and house size. I chose this as the topic for my project because I wanted data that was both readily available and at least somewhat easy to work with. \n",
    "<br>"
   ]
  },
  {
   "cell_type": "markdown",
   "id": "580b77af-fc96-433b-8441-3beeff4ad96b",
   "metadata": {},
   "source": [
    "## Project Goal\n",
    "<br>\n",
    "The goal of my project is to use a very studied type of data to analyze. I want my project to be a straightforward way to learn the tools of this class while having at least some value in what the results teach us."
   ]
  },
  {
   "cell_type": "markdown",
   "id": "93e6b9cd-3fe2-4f0d-a9ce-21ce36386b72",
   "metadata": {
    "tags": []
   },
   "source": [
    "## The Data\n",
    "\n",
    "The dataset I will be using is named USA Real Estate Dataset: Real Estate listings in the US broken by State and zip code. The data contains current and recent home sales listings with the basic information about the homes in question. The attributes of the dataset include price, bed, bath, acre_lot, full_address, street, city, state, zip_code, house_size, and sold_date. The data comes from a single source and is in the form of a CSV file thus is tabulated data. The original data had 613,159 rows and after the cleaning detailed below currently sits at 24,980 rows. \n",
    "\n"
   ]
  },
  {
   "cell_type": "code",
   "execution_count": 314,
   "id": "89622fcc-da97-4346-b7b4-b7f82a45b818",
   "metadata": {},
   "outputs": [
    {
     "data": {
      "text/html": [
       "<div>\n",
       "<style scoped>\n",
       "    .dataframe tbody tr th:only-of-type {\n",
       "        vertical-align: middle;\n",
       "    }\n",
       "\n",
       "    .dataframe tbody tr th {\n",
       "        vertical-align: top;\n",
       "    }\n",
       "\n",
       "    .dataframe thead th {\n",
       "        text-align: right;\n",
       "    }\n",
       "</style>\n",
       "<table border=\"1\" class=\"dataframe\">\n",
       "  <thead>\n",
       "    <tr style=\"text-align: right;\">\n",
       "      <th></th>\n",
       "      <th>price</th>\n",
       "      <th>bed</th>\n",
       "      <th>bath</th>\n",
       "      <th>acre_lot</th>\n",
       "      <th>full_address</th>\n",
       "      <th>street</th>\n",
       "      <th>city</th>\n",
       "      <th>state</th>\n",
       "      <th>zip_code</th>\n",
       "      <th>house_size</th>\n",
       "      <th>sold_date</th>\n",
       "    </tr>\n",
       "  </thead>\n",
       "  <tbody>\n",
       "    <tr>\n",
       "      <th>0</th>\n",
       "      <td>105000</td>\n",
       "      <td>3.0</td>\n",
       "      <td>2.0</td>\n",
       "      <td>0.12</td>\n",
       "      <td>Sector Yahuecas Titulo # V84, Adjuntas, PR, 00601</td>\n",
       "      <td>Sector Yahuecas Titulo # V84</td>\n",
       "      <td>Adjuntas</td>\n",
       "      <td>Puerto Rico</td>\n",
       "      <td>601.0</td>\n",
       "      <td>920.0</td>\n",
       "      <td>NaN</td>\n",
       "    </tr>\n",
       "  </tbody>\n",
       "</table>\n",
       "</div>"
      ],
      "text/plain": [
       "    price  bed  bath  acre_lot  \\\n",
       "0  105000  3.0   2.0      0.12   \n",
       "\n",
       "                                        full_address  \\\n",
       "0  Sector Yahuecas Titulo # V84, Adjuntas, PR, 00601   \n",
       "\n",
       "                         street      city        state  zip_code  house_size  \\\n",
       "0  Sector Yahuecas Titulo # V84  Adjuntas  Puerto Rico     601.0       920.0   \n",
       "\n",
       "  sold_date  \n",
       "0       NaN  "
      ]
     },
     "execution_count": 314,
     "metadata": {},
     "output_type": "execute_result"
    }
   ],
   "source": [
    "df = pd.read_csv('realtor-data.csv')\n",
    "\n",
    "df.head(1)"
   ]
  },
  {
   "cell_type": "code",
   "execution_count": 315,
   "id": "ff758fcf-807d-4eec-a602-cd9ab361b98c",
   "metadata": {},
   "outputs": [
    {
     "name": "stdout",
     "output_type": "stream",
     "text": [
      "Starting size of dataset:\n",
      " 613159 rows\n",
      " 11 columns\n"
     ]
    }
   ],
   "source": [
    "print(\"Starting size of dataset:\\n\", df.shape[0], \"rows\\n\", df.shape[1], \"columns\")"
   ]
  },
  {
   "cell_type": "markdown",
   "id": "bf5b787d-19f1-4486-9cff-cb82ce383867",
   "metadata": {},
   "source": [
    "I will also be using a dataset to qualify zip codes as urban, suburban, or rural."
   ]
  },
  {
   "cell_type": "code",
   "execution_count": 316,
   "id": "5917b0d2-5477-4f81-8619-7ecca7c44ba9",
   "metadata": {},
   "outputs": [
    {
     "data": {
      "text/html": [
       "<div>\n",
       "<style scoped>\n",
       "    .dataframe tbody tr th:only-of-type {\n",
       "        vertical-align: middle;\n",
       "    }\n",
       "\n",
       "    .dataframe tbody tr th {\n",
       "        vertical-align: top;\n",
       "    }\n",
       "\n",
       "    .dataframe thead th {\n",
       "        text-align: right;\n",
       "    }\n",
       "</style>\n",
       "<table border=\"1\" class=\"dataframe\">\n",
       "  <thead>\n",
       "    <tr style=\"text-align: right;\">\n",
       "      <th></th>\n",
       "      <th>ZCTA</th>\n",
       "      <th>density</th>\n",
       "      <th>classification</th>\n",
       "    </tr>\n",
       "  </thead>\n",
       "  <tbody>\n",
       "    <tr>\n",
       "      <th>0</th>\n",
       "      <td>1001</td>\n",
       "      <td>631</td>\n",
       "      <td>2</td>\n",
       "    </tr>\n",
       "  </tbody>\n",
       "</table>\n",
       "</div>"
      ],
      "text/plain": [
       "   ZCTA  density  classification\n",
       "0  1001      631               2"
      ]
     },
     "execution_count": 316,
     "metadata": {},
     "output_type": "execute_result"
    }
   ],
   "source": [
    "df2 = pd.read_csv('full-ZCTA-urban-suburban-rural-classification.csv')\n",
    "\n",
    "df2.head(1)"
   ]
  },
  {
   "cell_type": "markdown",
   "id": "9140b74a-c55f-4440-af0a-7a5b5a3bd1f2",
   "metadata": {},
   "source": [
    "Sakib, A. S. (2023, July 10). *Datasets | Jed Kolko*. jedkolko. http://jedkolko.com/datasets/"
   ]
  },
  {
   "cell_type": "markdown",
   "id": "2d37f4d4-6a50-4d88-ba58-7f59fd5cda93",
   "metadata": {},
   "source": [
    "Kolko, Jed (2023, Aug 10). *USA Real Estate Dataset*. Kaggle. https://www.kaggle.com/datasets/ahmedshahriarsakib/usa-real-estate-dataset "
   ]
  },
  {
   "cell_type": "markdown",
   "id": "162c09aa-6223-4471-8784-18327bed87b6",
   "metadata": {},
   "source": [
    "## Initial Attributes\n",
    "\n",
    "* price\n",
    "    * Sale or listing value\n",
    "* bed\n",
    "    * Number of bedrooms include in the home\n",
    "* bath\n",
    "    * Number of bathrooms include in the home\n",
    "* acre_lot\n",
    "    * Size of the lot included in the listing. May be zero.\n",
    "* full_address\n",
    "    * Addess of listing. \n",
    "* street\n",
    "    * Street name of listing.\n",
    "* city\n",
    "    * City name of listing.\n",
    "* state\n",
    "    * State name of listing.\n",
    "* zip_code\n",
    "    * zip code of the listing.\n",
    "* house_size\n",
    "    * Size of the home's interior.\n",
    "* sold_date\n",
    "    * Date the home was sold. "
   ]
  },
  {
   "cell_type": "markdown",
   "id": "4eb5d464-d36e-437e-a763-255ac2b5a2af",
   "metadata": {},
   "source": [
    "## Data Cleaning"
   ]
  },
  {
   "cell_type": "markdown",
   "id": "0b05b651-9c6d-4c6a-b99c-77375e427dc3",
   "metadata": {},
   "source": [
    "### Removed Duplicate entries. \n",
    "\n",
    "The dataset I'm using had some duplicate entries which needed to be removed to avoid affecting the results. Removing the duplicates using the Pandas method drop_duplicates results in lowering the number of rows to 81371."
   ]
  },
  {
   "cell_type": "code",
   "execution_count": 317,
   "id": "8cfb476c-6c06-4c56-902d-4a15ae6fa695",
   "metadata": {},
   "outputs": [
    {
     "name": "stdout",
     "output_type": "stream",
     "text": [
      "Size of dataset after removing duplicates:\n",
      " 81371 rows\n",
      " 11 columns\n"
     ]
    }
   ],
   "source": [
    "df.drop_duplicates(inplace = True)\n",
    "print(\"Size of dataset after removing duplicates:\\n\", df.shape[0], \"rows\\n\", df.shape[1], \"columns\")"
   ]
  },
  {
   "cell_type": "markdown",
   "id": "b53485c3-4bed-42a6-b922-b7c7c5764e99",
   "metadata": {},
   "source": [
    "### Filtering the Data\n",
    "I am limiting the data to current listing as well as homes with a sold_date of 2020-2022. This is to avoid large changes in home prices associated with inflation.\n"
   ]
  },
  {
   "cell_type": "code",
   "execution_count": 318,
   "id": "61d6003c-78cb-4c12-8993-d1744493b679",
   "metadata": {},
   "outputs": [
    {
     "name": "stdout",
     "output_type": "stream",
     "text": [
      "Size of dataset for current and newer listings:\n",
      " 7067 rows\n",
      " 11 columns\n"
     ]
    }
   ],
   "source": [
    "# Start by setting the data type of sold_date to datetime.\n",
    "df[\"sold_date\"] = pd.to_datetime(df[\"sold_date\"], format='%m/%d/%Y')\n",
    "\n",
    "# Overwrite the dataframe to contain listings with a sold_date from 2019 to 2022.\n",
    "df = df[df[\"sold_date\"].isnull() == False]\n",
    "df = df[df[\"sold_date\"] >= \"2019-01-01\"]\n",
    "\n",
    "print(\"Size of dataset for current and newer listings:\\n\", df.shape[0], \"rows\\n\", df.shape[1], \"columns\")"
   ]
  },
  {
   "cell_type": "markdown",
   "id": "6e7b3d0d-b0be-4de3-ba6a-3f4e07c0607c",
   "metadata": {},
   "source": [
    "Removing \"NA\" from zip_code."
   ]
  },
  {
   "cell_type": "code",
   "execution_count": 319,
   "id": "71fa0a46-a120-4954-a337-566fb7805536",
   "metadata": {},
   "outputs": [
    {
     "name": "stdout",
     "output_type": "stream",
     "text": [
      "Size of dataset for current and newer listings:\n",
      " 7067 rows\n",
      " 11 columns\n"
     ]
    }
   ],
   "source": [
    "df = df[df['zip_code'].isna() == False]\n",
    "\n",
    "print(\"Size of dataset for current and newer listings:\\n\", df.shape[0], \"rows\\n\", df.shape[1], \"columns\")"
   ]
  },
  {
   "cell_type": "markdown",
   "id": "9dc8730a-85f4-412e-b5b1-c2ffe2d27e24",
   "metadata": {},
   "source": [
    "### Removing Attributes\n",
    "\n",
    "Some of the attributes in the dataframe are unneeded so they can be removed. The following attributes are to be removed:\n",
    "\n",
    "* Address \n",
    "    * While addresses do have a real world effect on home prices the way this column is build means its usefulness for analysis is incredibly limited. As is, it is very unlikely to have any effect on home prices.\n",
    "* Street\n",
    "    * For the most part street names are not unique to a single city. A street named \"Main\" for example may be in a nice part of town, a bad part of town, or anywhere in between. This means there is likely no effect on home prices.\n",
    "* City \n",
    "    * City likely does have an effect on home prices however location data is more accurately captured by the zip code. This makes both city unneeded. \n",
    "* Sold Dates\n",
    "    * Initially I needed sold_date to limit the data to only include recent listings However, since I'm excluding from my model the effect of inflation on sold_date is no longer needed so it can be removed."
   ]
  },
  {
   "cell_type": "code",
   "execution_count": 320,
   "id": "3d4c6a23-ed29-46aa-b861-4e3faf023465",
   "metadata": {},
   "outputs": [
    {
     "name": "stdout",
     "output_type": "stream",
     "text": [
      "Size of dataset after dropping attributes:\n",
      " 7067 rows\n",
      " 7 columns\n"
     ]
    }
   ],
   "source": [
    "# Use the pandas drop method to remove the unneed attributes from the dataframe.\n",
    "df.drop(columns = [\"full_address\", \"street\", \"city\", \"sold_date\"], inplace = True)\n",
    "\n",
    "print(\"Size of dataset after dropping attributes:\\n\", df.shape[0], \"rows\\n\", df.shape[1], \"columns\")"
   ]
  },
  {
   "cell_type": "markdown",
   "id": "3ca8620a-eb04-4b52-a447-ed81fa362da0",
   "metadata": {},
   "source": [
    "### Remove Empty Lots\n",
    "\n",
    "The dataset includes empty lots. Since the goal of this project is to analyze home prices the data about these empty lots can be removed. This is achieved by filtering out the rows that have a null value for bed, bath, and house_size. It is likely that there are a few homes included in the dataset that incorrectly have null values in those three attributes but however after looking at the dataset it seems likely the number of incorrect listings will be low."
   ]
  },
  {
   "cell_type": "code",
   "execution_count": 321,
   "id": "e760f858-f5f1-4e1d-8d60-b7d0fb276016",
   "metadata": {},
   "outputs": [
    {
     "name": "stdout",
     "output_type": "stream",
     "text": [
      "Size of dataset after removing empty lots and incorrect listings:\n",
      " 3584 rows\n",
      " 7 columns\n"
     ]
    }
   ],
   "source": [
    "# Filter the dataframe using conditionals and the notnull method\n",
    "df = df[(df[\"bed\"].notnull() & df[\"bath\"].notnull() & df[\"house_size\"].notnull() & df[\"acre_lot\"].notnull())]\n",
    "\n",
    "print(\"Size of dataset after removing empty lots and incorrect listings:\\n\", df.shape[0], \"rows\\n\", df.shape[1], \"columns\")"
   ]
  },
  {
   "cell_type": "markdown",
   "id": "4971a859-f34d-46a5-962e-a148637232fc",
   "metadata": {},
   "source": [
    "### Remove Puerto Rico\n",
    "\n",
    "To simplify the analysis I'm removing Puerto Rico so that the dataset only includes homes in the lower 48 states. This is to remove possible outliers and to simplify steps below."
   ]
  },
  {
   "cell_type": "code",
   "execution_count": 322,
   "id": "15a48a1e-c8e4-4467-bbdc-b465b2753125",
   "metadata": {},
   "outputs": [
    {
     "name": "stdout",
     "output_type": "stream",
     "text": [
      "Size of dataset after removing Puerto Rice listings:\n",
      " 3583 rows\n",
      " 7 columns\n"
     ]
    }
   ],
   "source": [
    "# Filter the dataframe using conditional\n",
    "df = df[df[\"state\"] != \"Puerto Rico\"]\n",
    "\n",
    "print(\"Size of dataset after removing Puerto Rice listings:\\n\", df.shape[0], \"rows\\n\", df.shape[1], \"columns\")"
   ]
  },
  {
   "cell_type": "markdown",
   "id": "bcf13c2a-132d-467c-bbbc-9a7590710c0a",
   "metadata": {},
   "source": [
    "### Remove Outliers"
   ]
  },
  {
   "cell_type": "code",
   "execution_count": 323,
   "id": "c5da9d1d-2480-4b1d-9010-3b6cb293e86a",
   "metadata": {},
   "outputs": [
    {
     "name": "stdout",
     "output_type": "stream",
     "text": [
      "Size of dataset after removing outliers:\n",
      " 3142 rows\n",
      " 7 columns\n"
     ]
    }
   ],
   "source": [
    "# Use the zscore method to remove outliers from the data.\n",
    "df = df[stats.zscore(df[\"price\"]) < 2]\n",
    "df = df[stats.zscore(df[\"bed\"]) < 2]\n",
    "df = df[stats.zscore(df[\"bath\"]) < 2]\n",
    "df = df[stats.zscore(df[\"house_size\"]) < 2]\n",
    "df = df[stats.zscore(df[\"acre_lot\"]) < 2]\n",
    "\n",
    "print(\"Size of dataset after removing outliers:\\n\", df.shape[0], \"rows\\n\", df.shape[1], \"columns\")"
   ]
  },
  {
   "cell_type": "markdown",
   "id": "35ac59f8-4f22-4308-9729-9664198ed928",
   "metadata": {},
   "source": [
    "## Exploratory Data Analysis\n"
   ]
  },
  {
   "cell_type": "markdown",
   "id": "85b5bb32-5ca1-46e2-bb51-971a09b387d0",
   "metadata": {},
   "source": [
    "### Visualizations\n",
    "\n",
    "### Bedrooms\n",
    "As we can see the the Bedrooms histogram has a moderate right skew. Most of the density falls within the values of 2 and 5. "
   ]
  },
  {
   "cell_type": "code",
   "execution_count": 324,
   "id": "7ae9f36a-6c93-46c0-bc1b-b95d22d60d3f",
   "metadata": {},
   "outputs": [
    {
     "data": {
      "image/png": "[encoded data removed]",
      "text/plain": [
       "<Figure size 640x480 with 1 Axes>"
      ]
     },
     "metadata": {},
     "output_type": "display_data"
    }
   ],
   "source": [
    "\n",
    "plt.ylabel(\"Probability Density\")\n",
    "plt.xlabel(\"Number of Bedrooms (Outliers Removed)\")\n",
    "plt.hist(df[\"bed\"], density=True);"
   ]
  },
  {
   "cell_type": "markdown",
   "id": "e715cfaf-8491-44f7-b9eb-08607094b532",
   "metadata": {},
   "source": [
    "### Bathrooms\n",
    "\n",
    "Here we can see the the Bathrooms histogram has more of a right skew than the Bedrooms plot. Most of the density falls within the values of 1 and 5."
   ]
  },
  {
   "cell_type": "code",
   "execution_count": 325,
   "id": "c4999f7f-92fa-44e2-a7b5-fd682cf515a8",
   "metadata": {},
   "outputs": [
    {
     "data": {
      "image/png": "[encoded data removed]",
      "text/plain": [
       "<Figure size 640x480 with 1 Axes>"
      ]
     },
     "metadata": {},
     "output_type": "display_data"
    }
   ],
   "source": [
    "plt.ylabel(\"Probability Density\")\n",
    "plt.xlabel(\"Number of Bathrooms (Outliers Removed)\")\n",
    "plt.hist(df[\"bath\"], density=True);"
   ]
  },
  {
   "cell_type": "markdown",
   "id": "7e0175ae-f4c4-44f3-a708-8b45d36900cd",
   "metadata": {},
   "source": [
    "### Lot Size\n",
    "\n",
    "Lot size has by far the most right skew of any plot. Most of the density falls between 0 and 1. It should be of note that many homes have a Lot Size of zero which helps lead to this extreme skew."
   ]
  },
  {
   "cell_type": "code",
   "execution_count": 326,
   "id": "9c12d724-163f-4c1e-8718-23e917ac234d",
   "metadata": {},
   "outputs": [
    {
     "data": {
      "image/png": "[encoded data removed]",
      "text/plain": [
       "<Figure size 640x480 with 1 Axes>"
      ]
     },
     "metadata": {},
     "output_type": "display_data"
    }
   ],
   "source": [
    "plt.ylabel(\"Probability Density\")\n",
    "plt.xlabel(\"Lot Size (Outliers Removed)\")\n",
    "plt.hist(df[\"acre_lot\"], range=[0, 10], density=True);"
   ]
  },
  {
   "cell_type": "markdown",
   "id": "665a53a8-f009-4b98-adfa-dfecdf9be27f",
   "metadata": {},
   "source": [
    "### House Size\n",
    "\n",
    "House Size is another attribute with a large amount of right skew. "
   ]
  },
  {
   "cell_type": "code",
   "execution_count": 327,
   "id": "38376e76-81f6-4958-b165-a7f16e671082",
   "metadata": {},
   "outputs": [
    {
     "data": {
      "image/png": "[encoded data removed]",
      "text/plain": [
       "<Figure size 640x480 with 1 Axes>"
      ]
     },
     "metadata": {},
     "output_type": "display_data"
    }
   ],
   "source": [
    "plt.ylabel(\"Probability Density\")\n",
    "plt.xlabel(\"House Size (Outliers Removed)\")\n",
    "plt.hist(df[\"house_size\"], density=True);"
   ]
  },
  {
   "cell_type": "markdown",
   "id": "f6d47c7d-200b-41c4-a515-e36d6ab5729e",
   "metadata": {},
   "source": [
    "### Price\n",
    "\n",
    "Price is the attribute with by far the least amount of skew. It's not quite skew free so we can't say it looks like a normal distribution but it's definitely the attribute that comes closest."
   ]
  },
  {
   "cell_type": "code",
   "execution_count": 328,
   "id": "ee4f2bd7-4eb1-449a-8c31-911be6a313ef",
   "metadata": {},
   "outputs": [
    {
     "data": {
      "image/png": "[encoded data removed]",
      "text/plain": [
       "<Figure size 640x480 with 1 Axes>"
      ]
     },
     "metadata": {},
     "output_type": "display_data"
    }
   ],
   "source": [
    "plt.ylabel(\"Probability Density\")\n",
    "plt.xlabel(\"Price (Outliers Removed)\")\n",
    "plt.hist(df[\"price\"], range=[0, 1000000], density=True);"
   ]
  },
  {
   "cell_type": "markdown",
   "id": "b7e9e028-07f7-430b-94fd-592daa20e327",
   "metadata": {},
   "source": [
    "### Zip Code\n",
    "\n",
    "There's no reason to plot zip codes as they are assigned geographically. Since the dataset doesn't include any of the west coast all we would learn is that most housing in this dataset is located towards the east coast. On top of that despite the fact that zip codes are integers in the context of a regression this data would qualify as categorical. There are a few options on how to handle this that are within the scope of this class. One would be to have each zip code be it's own dummy, the problem with this is that there would then be thousands of variables to include in the regression. A second option is to only use the first three digits of the zip code, this would still give enough location data but it still leaves hundreds of dummies that would be needed. A third option is to use the first two digits, this option would be managable however it would barely be better that using state as a categorical variable. The last option is to transform the zip code data into something more managable. To that end using ZCTA data we can use the zip codes to add a new column that shows if the house is in a rural, suburban, or urban area."
   ]
  },
  {
   "cell_type": "markdown",
   "id": "25dae658-74f6-4c95-b624-8d5bc436d531",
   "metadata": {},
   "source": [
    "### Neighborhood Type\n",
    "\n"
   ]
  },
  {
   "cell_type": "code",
   "execution_count": 329,
   "id": "9e7ee872-a390-47ab-830f-23b13e313f02",
   "metadata": {},
   "outputs": [
    {
     "data": {
      "text/html": [
       "<div>\n",
       "<style scoped>\n",
       "    .dataframe tbody tr th:only-of-type {\n",
       "        vertical-align: middle;\n",
       "    }\n",
       "\n",
       "    .dataframe tbody tr th {\n",
       "        vertical-align: top;\n",
       "    }\n",
       "\n",
       "    .dataframe thead th {\n",
       "        text-align: right;\n",
       "    }\n",
       "</style>\n",
       "<table border=\"1\" class=\"dataframe\">\n",
       "  <thead>\n",
       "    <tr style=\"text-align: right;\">\n",
       "      <th></th>\n",
       "      <th>price</th>\n",
       "      <th>bed</th>\n",
       "      <th>bath</th>\n",
       "      <th>acre_lot</th>\n",
       "      <th>state</th>\n",
       "      <th>zip_code</th>\n",
       "      <th>house_size</th>\n",
       "      <th>classification</th>\n",
       "    </tr>\n",
       "  </thead>\n",
       "  <tbody>\n",
       "    <tr>\n",
       "      <th>0</th>\n",
       "      <td>275000</td>\n",
       "      <td>3.0</td>\n",
       "      <td>2.0</td>\n",
       "      <td>0.16</td>\n",
       "      <td>Massachusetts</td>\n",
       "      <td>1002.0</td>\n",
       "      <td>1280.0</td>\n",
       "      <td>2</td>\n",
       "    </tr>\n",
       "  </tbody>\n",
       "</table>\n",
       "</div>"
      ],
      "text/plain": [
       "    price  bed  bath  acre_lot          state  zip_code  house_size  \\\n",
       "0  275000  3.0   2.0      0.16  Massachusetts    1002.0      1280.0   \n",
       "\n",
       "   classification  \n",
       "0               2  "
      ]
     },
     "execution_count": 329,
     "metadata": {},
     "output_type": "execute_result"
    }
   ],
   "source": [
    "\n",
    "df2.rename(columns = {\"ZCTA\": \"zip_code\"}, inplace = True)\n",
    "df2.drop(columns = [\"density\"], inplace = True)\n",
    "df = df.merge(df2, on = \"zip_code\")\n",
    "\n",
    "df.head(1)"
   ]
  },
  {
   "cell_type": "markdown",
   "id": "8b2e430e-7919-498c-861f-459b9b1267d1",
   "metadata": {},
   "source": [
    "### Pair Plot\n",
    "\n",
    "As we can see from the below pair plot there doesn't seem to be a lot of correlation between many of the attributes. The two attributes that seem to have at least some correlation is bed and bath. This makes sense as when you increase the number of bedroom in a home you also tend to see a corresponding increase in the number of bathroom. More bedrooms means more people, more people means more bathrooms are needed. The other attributes appear to have little correlation which intuitively seems somewhat unusual. I do wonder the large number of outliers is having an effect on the visual appearance of a correlation."
   ]
  },
  {
   "cell_type": "code",
   "execution_count": 330,
   "id": "bbe02847-6c25-4ce0-8df1-0404eb18ef35",
   "metadata": {},
   "outputs": [
    {
     "data": {
      "text/plain": [
       "<Figure size 2000x1500 with 0 Axes>"
      ]
     },
     "metadata": {},
     "output_type": "display_data"
    },
    {
     "data": {
      "image/png": "[encoded data removed]",
      "text/plain": [
       "<Figure size 1250x1250 with 30 Axes>"
      ]
     },
     "metadata": {},
     "output_type": "display_data"
    }
   ],
   "source": [
    "n = df.shape[0]\n",
    "frac = 0.08\n",
    "plt.figure(figsize=(20,15))\n",
    "sns.pairplot(df.sample(frac=frac), vars=[\"price\", \"bed\", \"bath\", \"acre_lot\", \"house_size\"])\n",
    "plt.show()"
   ]
  },
  {
   "cell_type": "markdown",
   "id": "b01b432b-f565-4031-86f4-b3416f274b35",
   "metadata": {},
   "source": [
    "### Looking for Colinearity\n",
    "\n",
    "Given the fact that more rooms mean a larger house it's likely that the variables bed, bath, and house_size will have some colinearity. To test for colinearity I'm going to look at the Variance Inflation Factor. A VIF of 0 to 5 is good, 5 to 10 means that the data has colinearity but isn't terrible, and 10+ is extreme colinearity."
   ]
  },
  {
   "cell_type": "code",
   "execution_count": 250,
   "id": "1640a1eb-acde-43f7-a466-7896438cc573",
   "metadata": {},
   "outputs": [
    {
     "name": "stdout",
     "output_type": "stream",
     "text": [
      "      feature        VIF\n",
      "0         bed  12.132767\n",
      "1        bath  14.081212\n",
      "2  house_size  13.417652\n"
     ]
    }
   ],
   "source": [
    "# The variable set\n",
    "X = df[['bed', 'bath', 'house_size']]\n",
    "  \n",
    "# Make a dataframe for the VIF data\n",
    "vif_data = pd.DataFrame()\n",
    "vif_data[\"feature\"] = X.columns\n",
    "  \n",
    "# Calculating VIF for each attribute\n",
    "vif_data[\"VIF\"] = [vif(X.values, i) for i in range(len(X.columns))]\n",
    "  \n",
    "print(vif_data)"
   ]
  },
  {
   "cell_type": "markdown",
   "id": "30544a5e-0228-49b8-8637-e13234bfe6d6",
   "metadata": {},
   "source": [
    "As we can see the VIF for all 3 variables it above 10 this means we can't use all three variables together. This means all three variables shouldn't be used together. Now we can check the correlation between all of the combinations of the variables."
   ]
  },
  {
   "cell_type": "code",
   "execution_count": 251,
   "id": "71437373-3883-415a-91b3-9fdb2103e951",
   "metadata": {},
   "outputs": [
    {
     "name": "stdout",
     "output_type": "stream",
     "text": [
      "                 bed  house_size\n",
      "bed         1.000000    0.591856\n",
      "house_size  0.591856    1.000000\n"
     ]
    }
   ],
   "source": [
    "X = df[['bed', 'house_size']]\n",
    "corr = X.corr()\n",
    "  \n",
    "print(corr)"
   ]
  },
  {
   "cell_type": "code",
   "execution_count": 252,
   "id": "02a2c4f0-8584-4cdf-8f46-4e6ac51dc1cf",
   "metadata": {},
   "outputs": [
    {
     "name": "stdout",
     "output_type": "stream",
     "text": [
      "                bath  house_size\n",
      "bath        1.000000    0.679031\n",
      "house_size  0.679031    1.000000\n"
     ]
    }
   ],
   "source": [
    "X = df[['bath', 'house_size']]\n",
    "corr = X.corr()\n",
    "  \n",
    "print(corr)"
   ]
  },
  {
   "cell_type": "code",
   "execution_count": 253,
   "id": "dcb3e881-8fdc-4441-a324-1ca0c9ef2050",
   "metadata": {},
   "outputs": [
    {
     "name": "stdout",
     "output_type": "stream",
     "text": [
      "           bed      bath\n",
      "bed   1.000000  0.505788\n",
      "bath  0.505788  1.000000\n"
     ]
    }
   ],
   "source": [
    "X = df[['bed', 'bath']] \n",
    "corr = X.corr()\n",
    "  \n",
    "print(corr)"
   ]
  },
  {
   "cell_type": "markdown",
   "id": "3f9b2f6c-8253-43f3-bb58-561e7038d6c8",
   "metadata": {},
   "source": [
    "As we can see there is strong correlation between any combination of these variables with the lowest correlation belonging to the combination of bed and bath. \n",
    "\n",
    "Looking at the data it seems like there are only two decent choices. Either use house_size by itself or use bed and bath without house_size. The safer choice is the former but either way I will test the both combinations."
   ]
  },
  {
   "cell_type": "markdown",
   "id": "71730b1f-d049-4bb4-9994-377fc8e61a1b",
   "metadata": {},
   "source": [
    "## Initial Models\n",
    "\n",
    "Since house_size can't be used with bed and bath we'll start by building two full models. One will be $ price = C(bath) + C(bed) + acre_lot + C(classification) $ and the other will be $ price = house\\_size + acre\\_lot + C(classification)$. "
   ]
  },
  {
   "cell_type": "code",
   "execution_count": 254,
   "id": "064a97ed-a0fb-4afe-a7c4-b313e1d80c84",
   "metadata": {},
   "outputs": [
    {
     "data": {
      "text/html": [
       "<table class=\"simpletable\">\n",
       "<caption>OLS Regression Results</caption>\n",
       "<tr>\n",
       "  <th>Dep. Variable:</th>          <td>price</td>      <th>  R-squared:         </th> <td>   0.300</td> \n",
       "</tr>\n",
       "<tr>\n",
       "  <th>Model:</th>                   <td>OLS</td>       <th>  Adj. R-squared:    </th> <td>   0.297</td> \n",
       "</tr>\n",
       "<tr>\n",
       "  <th>Method:</th>             <td>Least Squares</td>  <th>  F-statistic:       </th> <td>   121.4</td> \n",
       "</tr>\n",
       "<tr>\n",
       "  <th>Date:</th>             <td>Tue, 15 Aug 2023</td> <th>  Prob (F-statistic):</th> <td>6.58e-232</td>\n",
       "</tr>\n",
       "<tr>\n",
       "  <th>Time:</th>                 <td>03:02:02</td>     <th>  Log-Likelihood:    </th> <td> -43963.</td> \n",
       "</tr>\n",
       "<tr>\n",
       "  <th>No. Observations:</th>      <td>  3136</td>      <th>  AIC:               </th> <td>8.795e+04</td>\n",
       "</tr>\n",
       "<tr>\n",
       "  <th>Df Residuals:</th>          <td>  3124</td>      <th>  BIC:               </th> <td>8.802e+04</td>\n",
       "</tr>\n",
       "<tr>\n",
       "  <th>Df Model:</th>              <td>    11</td>      <th>                     </th>     <td> </td>    \n",
       "</tr>\n",
       "<tr>\n",
       "  <th>Covariance Type:</th>      <td>nonrobust</td>    <th>                     </th>     <td> </td>    \n",
       "</tr>\n",
       "</table>\n",
       "<table class=\"simpletable\">\n",
       "<tr>\n",
       "             <td></td>               <th>coef</th>     <th>std err</th>      <th>t</th>      <th>P>|t|</th>  <th>[0.025</th>    <th>0.975]</th>  \n",
       "</tr>\n",
       "<tr>\n",
       "  <th>Intercept</th>              <td>  4.83e+05</td> <td> 3.86e+04</td> <td>   12.522</td> <td> 0.000</td> <td> 4.07e+05</td> <td> 5.59e+05</td>\n",
       "</tr>\n",
       "<tr>\n",
       "  <th>C(bath)[T.2.0]</th>         <td> 1.102e+05</td> <td> 1.63e+04</td> <td>    6.771</td> <td> 0.000</td> <td> 7.83e+04</td> <td> 1.42e+05</td>\n",
       "</tr>\n",
       "<tr>\n",
       "  <th>C(bath)[T.3.0]</th>         <td> 3.208e+05</td> <td> 1.83e+04</td> <td>   17.511</td> <td> 0.000</td> <td> 2.85e+05</td> <td> 3.57e+05</td>\n",
       "</tr>\n",
       "<tr>\n",
       "  <th>C(bath)[T.4.0]</th>         <td> 6.104e+05</td> <td> 2.36e+04</td> <td>   25.897</td> <td> 0.000</td> <td> 5.64e+05</td> <td> 6.57e+05</td>\n",
       "</tr>\n",
       "<tr>\n",
       "  <th>C(bed)[T.2.0]</th>          <td> -4.63e+04</td> <td> 4.04e+04</td> <td>   -1.146</td> <td> 0.252</td> <td>-1.25e+05</td> <td> 3.29e+04</td>\n",
       "</tr>\n",
       "<tr>\n",
       "  <th>C(bed)[T.3.0]</th>          <td> -9.58e+04</td> <td> 3.93e+04</td> <td>   -2.435</td> <td> 0.015</td> <td>-1.73e+05</td> <td>-1.87e+04</td>\n",
       "</tr>\n",
       "<tr>\n",
       "  <th>C(bed)[T.4.0]</th>          <td>-5.758e+04</td> <td> 4.07e+04</td> <td>   -1.413</td> <td> 0.158</td> <td>-1.37e+05</td> <td> 2.23e+04</td>\n",
       "</tr>\n",
       "<tr>\n",
       "  <th>C(bed)[T.5.0]</th>          <td>-4.658e+04</td> <td>  4.4e+04</td> <td>   -1.059</td> <td> 0.290</td> <td>-1.33e+05</td> <td> 3.97e+04</td>\n",
       "</tr>\n",
       "<tr>\n",
       "  <th>C(bed)[T.6.0]</th>          <td>-1.352e+05</td> <td> 4.78e+04</td> <td>   -2.830</td> <td> 0.005</td> <td>-2.29e+05</td> <td>-4.15e+04</td>\n",
       "</tr>\n",
       "<tr>\n",
       "  <th>C(classification)[T.2]</th> <td>-1.118e+05</td> <td> 1.46e+04</td> <td>   -7.646</td> <td> 0.000</td> <td> -1.4e+05</td> <td>-8.31e+04</td>\n",
       "</tr>\n",
       "<tr>\n",
       "  <th>C(classification)[T.3]</th> <td>-1.897e+05</td> <td> 1.83e+04</td> <td>  -10.373</td> <td> 0.000</td> <td>-2.26e+05</td> <td>-1.54e+05</td>\n",
       "</tr>\n",
       "<tr>\n",
       "  <th>acre_lot</th>               <td> 3561.1143</td> <td>  751.682</td> <td>    4.738</td> <td> 0.000</td> <td> 2087.274</td> <td> 5034.954</td>\n",
       "</tr>\n",
       "</table>\n",
       "<table class=\"simpletable\">\n",
       "<tr>\n",
       "  <th>Omnibus:</th>       <td>1655.909</td> <th>  Durbin-Watson:     </th> <td>   1.131</td> \n",
       "</tr>\n",
       "<tr>\n",
       "  <th>Prob(Omnibus):</th>  <td> 0.000</td>  <th>  Jarque-Bera (JB):  </th> <td>14277.755</td>\n",
       "</tr>\n",
       "<tr>\n",
       "  <th>Skew:</th>           <td> 2.369</td>  <th>  Prob(JB):          </th> <td>    0.00</td> \n",
       "</tr>\n",
       "<tr>\n",
       "  <th>Kurtosis:</th>       <td>12.318</td>  <th>  Cond. No.          </th> <td>    132.</td> \n",
       "</tr>\n",
       "</table><br/><br/>Notes:<br/>[1] Standard Errors assume that the covariance matrix of the errors is correctly specified."
      ],
      "text/plain": [
       "<class 'statsmodels.iolib.summary.Summary'>\n",
       "\"\"\"\n",
       "                            OLS Regression Results                            \n",
       "==============================================================================\n",
       "Dep. Variable:                  price   R-squared:                       0.300\n",
       "Model:                            OLS   Adj. R-squared:                  0.297\n",
       "Method:                 Least Squares   F-statistic:                     121.4\n",
       "Date:                Tue, 15 Aug 2023   Prob (F-statistic):          6.58e-232\n",
       "Time:                        03:02:02   Log-Likelihood:                -43963.\n",
       "No. Observations:                3136   AIC:                         8.795e+04\n",
       "Df Residuals:                    3124   BIC:                         8.802e+04\n",
       "Df Model:                          11                                         \n",
       "Covariance Type:            nonrobust                                         \n",
       "==========================================================================================\n",
       "                             coef    std err          t      P>|t|      [0.025      0.975]\n",
       "------------------------------------------------------------------------------------------\n",
       "Intercept                4.83e+05   3.86e+04     12.522      0.000    4.07e+05    5.59e+05\n",
       "C(bath)[T.2.0]          1.102e+05   1.63e+04      6.771      0.000    7.83e+04    1.42e+05\n",
       "C(bath)[T.3.0]          3.208e+05   1.83e+04     17.511      0.000    2.85e+05    3.57e+05\n",
       "C(bath)[T.4.0]          6.104e+05   2.36e+04     25.897      0.000    5.64e+05    6.57e+05\n",
       "C(bed)[T.2.0]           -4.63e+04   4.04e+04     -1.146      0.252   -1.25e+05    3.29e+04\n",
       "C(bed)[T.3.0]           -9.58e+04   3.93e+04     -2.435      0.015   -1.73e+05   -1.87e+04\n",
       "C(bed)[T.4.0]          -5.758e+04   4.07e+04     -1.413      0.158   -1.37e+05    2.23e+04\n",
       "C(bed)[T.5.0]          -4.658e+04    4.4e+04     -1.059      0.290   -1.33e+05    3.97e+04\n",
       "C(bed)[T.6.0]          -1.352e+05   4.78e+04     -2.830      0.005   -2.29e+05   -4.15e+04\n",
       "C(classification)[T.2] -1.118e+05   1.46e+04     -7.646      0.000    -1.4e+05   -8.31e+04\n",
       "C(classification)[T.3] -1.897e+05   1.83e+04    -10.373      0.000   -2.26e+05   -1.54e+05\n",
       "acre_lot                3561.1143    751.682      4.738      0.000    2087.274    5034.954\n",
       "==============================================================================\n",
       "Omnibus:                     1655.909   Durbin-Watson:                   1.131\n",
       "Prob(Omnibus):                  0.000   Jarque-Bera (JB):            14277.755\n",
       "Skew:                           2.369   Prob(JB):                         0.00\n",
       "Kurtosis:                      12.318   Cond. No.                         132.\n",
       "==============================================================================\n",
       "\n",
       "Notes:\n",
       "[1] Standard Errors assume that the covariance matrix of the errors is correctly specified.\n",
       "\"\"\""
      ]
     },
     "execution_count": 254,
     "metadata": {},
     "output_type": "execute_result"
    }
   ],
   "source": [
    "model1 = smf.ols(formula=\"price~C(bath)+C(bed)+acre_lot+C(classification)\", data=df).fit() \n",
    "model1.summary()"
   ]
  },
  {
   "cell_type": "code",
   "execution_count": 255,
   "id": "bc0bbda7-d383-4218-9209-1888ffa4093b",
   "metadata": {},
   "outputs": [
    {
     "data": {
      "text/html": [
       "<table class=\"simpletable\">\n",
       "<caption>OLS Regression Results</caption>\n",
       "<tr>\n",
       "  <th>Dep. Variable:</th>          <td>price</td>      <th>  R-squared:         </th> <td>   0.249</td> \n",
       "</tr>\n",
       "<tr>\n",
       "  <th>Model:</th>                   <td>OLS</td>       <th>  Adj. R-squared:    </th> <td>   0.248</td> \n",
       "</tr>\n",
       "<tr>\n",
       "  <th>Method:</th>             <td>Least Squares</td>  <th>  F-statistic:       </th> <td>   260.1</td> \n",
       "</tr>\n",
       "<tr>\n",
       "  <th>Date:</th>             <td>Tue, 15 Aug 2023</td> <th>  Prob (F-statistic):</th> <td>3.34e-193</td>\n",
       "</tr>\n",
       "<tr>\n",
       "  <th>Time:</th>                 <td>03:02:03</td>     <th>  Log-Likelihood:    </th> <td> -44071.</td> \n",
       "</tr>\n",
       "<tr>\n",
       "  <th>No. Observations:</th>      <td>  3136</td>      <th>  AIC:               </th> <td>8.815e+04</td>\n",
       "</tr>\n",
       "<tr>\n",
       "  <th>Df Residuals:</th>          <td>  3131</td>      <th>  BIC:               </th> <td>8.818e+04</td>\n",
       "</tr>\n",
       "<tr>\n",
       "  <th>Df Model:</th>              <td>     4</td>      <th>                     </th>     <td> </td>    \n",
       "</tr>\n",
       "<tr>\n",
       "  <th>Covariance Type:</th>      <td>nonrobust</td>    <th>                     </th>     <td> </td>    \n",
       "</tr>\n",
       "</table>\n",
       "<table class=\"simpletable\">\n",
       "<tr>\n",
       "             <td></td>               <th>coef</th>     <th>std err</th>      <th>t</th>      <th>P>|t|</th>  <th>[0.025</th>    <th>0.975]</th>  \n",
       "</tr>\n",
       "<tr>\n",
       "  <th>Intercept</th>              <td> 2.608e+05</td> <td> 1.76e+04</td> <td>   14.777</td> <td> 0.000</td> <td> 2.26e+05</td> <td> 2.95e+05</td>\n",
       "</tr>\n",
       "<tr>\n",
       "  <th>C(classification)[T.2]</th> <td>-1.257e+05</td> <td> 1.49e+04</td> <td>   -8.443</td> <td> 0.000</td> <td>-1.55e+05</td> <td>-9.65e+04</td>\n",
       "</tr>\n",
       "<tr>\n",
       "  <th>C(classification)[T.3]</th> <td>-2.459e+05</td> <td> 1.87e+04</td> <td>  -13.128</td> <td> 0.000</td> <td>-2.83e+05</td> <td>-2.09e+05</td>\n",
       "</tr>\n",
       "<tr>\n",
       "  <th>house_size</th>             <td>  199.7827</td> <td>    6.699</td> <td>   29.821</td> <td> 0.000</td> <td>  186.647</td> <td>  212.918</td>\n",
       "</tr>\n",
       "<tr>\n",
       "  <th>acre_lot</th>               <td> 2659.7768</td> <td>  780.944</td> <td>    3.406</td> <td> 0.001</td> <td> 1128.562</td> <td> 4190.992</td>\n",
       "</tr>\n",
       "</table>\n",
       "<table class=\"simpletable\">\n",
       "<tr>\n",
       "  <th>Omnibus:</th>       <td>1712.753</td> <th>  Durbin-Watson:     </th> <td>   0.992</td> \n",
       "</tr>\n",
       "<tr>\n",
       "  <th>Prob(Omnibus):</th>  <td> 0.000</td>  <th>  Jarque-Bera (JB):  </th> <td>15927.743</td>\n",
       "</tr>\n",
       "<tr>\n",
       "  <th>Skew:</th>           <td> 2.445</td>  <th>  Prob(JB):          </th> <td>    0.00</td> \n",
       "</tr>\n",
       "<tr>\n",
       "  <th>Kurtosis:</th>       <td>12.899</td>  <th>  Cond. No.          </th> <td>9.45e+03</td> \n",
       "</tr>\n",
       "</table><br/><br/>Notes:<br/>[1] Standard Errors assume that the covariance matrix of the errors is correctly specified.<br/>[2] The condition number is large, 9.45e+03. This might indicate that there are<br/>strong multicollinearity or other numerical problems."
      ],
      "text/plain": [
       "<class 'statsmodels.iolib.summary.Summary'>\n",
       "\"\"\"\n",
       "                            OLS Regression Results                            \n",
       "==============================================================================\n",
       "Dep. Variable:                  price   R-squared:                       0.249\n",
       "Model:                            OLS   Adj. R-squared:                  0.248\n",
       "Method:                 Least Squares   F-statistic:                     260.1\n",
       "Date:                Tue, 15 Aug 2023   Prob (F-statistic):          3.34e-193\n",
       "Time:                        03:02:03   Log-Likelihood:                -44071.\n",
       "No. Observations:                3136   AIC:                         8.815e+04\n",
       "Df Residuals:                    3131   BIC:                         8.818e+04\n",
       "Df Model:                           4                                         \n",
       "Covariance Type:            nonrobust                                         \n",
       "==========================================================================================\n",
       "                             coef    std err          t      P>|t|      [0.025      0.975]\n",
       "------------------------------------------------------------------------------------------\n",
       "Intercept               2.608e+05   1.76e+04     14.777      0.000    2.26e+05    2.95e+05\n",
       "C(classification)[T.2] -1.257e+05   1.49e+04     -8.443      0.000   -1.55e+05   -9.65e+04\n",
       "C(classification)[T.3] -2.459e+05   1.87e+04    -13.128      0.000   -2.83e+05   -2.09e+05\n",
       "house_size               199.7827      6.699     29.821      0.000     186.647     212.918\n",
       "acre_lot                2659.7768    780.944      3.406      0.001    1128.562    4190.992\n",
       "==============================================================================\n",
       "Omnibus:                     1712.753   Durbin-Watson:                   0.992\n",
       "Prob(Omnibus):                  0.000   Jarque-Bera (JB):            15927.743\n",
       "Skew:                           2.445   Prob(JB):                         0.00\n",
       "Kurtosis:                      12.899   Cond. No.                     9.45e+03\n",
       "==============================================================================\n",
       "\n",
       "Notes:\n",
       "[1] Standard Errors assume that the covariance matrix of the errors is correctly specified.\n",
       "[2] The condition number is large, 9.45e+03. This might indicate that there are\n",
       "strong multicollinearity or other numerical problems.\n",
       "\"\"\""
      ]
     },
     "execution_count": 255,
     "metadata": {},
     "output_type": "execute_result"
    }
   ],
   "source": [
    "model2 = smf.ols(formula=\"price~house_size+acre_lot+C(classification)\", data=df).fit() \n",
    "model2.summary()"
   ]
  },
  {
   "cell_type": "markdown",
   "id": "0f7a6ef0-5d3a-43c7-bc0d-d0f47a963c3f",
   "metadata": {},
   "source": [
    "### Drill Down\n",
    "\n",
    "As you can see the result so far aren't very encouraging. Model 1 has an $r^2$ of $0.300$ and model 2 has an $r^2$ of $0.249$ which are both pretty darn low. Perhaps since this dataset includes many different states which may have an affect on the price of housing. It's worth drilling down and trying this one of these models on some individual states."
   ]
  },
  {
   "cell_type": "code",
   "execution_count": 262,
   "id": "524c59db-c853-496c-b1ac-336e693f2708",
   "metadata": {},
   "outputs": [
    {
     "data": {
      "text/html": [
       "<table class=\"simpletable\">\n",
       "<caption>OLS Regression Results</caption>\n",
       "<tr>\n",
       "  <th>Dep. Variable:</th>          <td>price</td>      <th>  R-squared:         </th> <td>   0.490</td>\n",
       "</tr>\n",
       "<tr>\n",
       "  <th>Model:</th>                   <td>OLS</td>       <th>  Adj. R-squared:    </th> <td>   0.437</td>\n",
       "</tr>\n",
       "<tr>\n",
       "  <th>Method:</th>             <td>Least Squares</td>  <th>  F-statistic:       </th> <td>   9.219</td>\n",
       "</tr>\n",
       "<tr>\n",
       "  <th>Date:</th>             <td>Tue, 15 Aug 2023</td> <th>  Prob (F-statistic):</th> <td>1.58e-10</td>\n",
       "</tr>\n",
       "<tr>\n",
       "  <th>Time:</th>                 <td>03:04:50</td>     <th>  Log-Likelihood:    </th> <td> -1373.4</td>\n",
       "</tr>\n",
       "<tr>\n",
       "  <th>No. Observations:</th>      <td>   107</td>      <th>  AIC:               </th> <td>   2769.</td>\n",
       "</tr>\n",
       "<tr>\n",
       "  <th>Df Residuals:</th>          <td>    96</td>      <th>  BIC:               </th> <td>   2798.</td>\n",
       "</tr>\n",
       "<tr>\n",
       "  <th>Df Model:</th>              <td>    10</td>      <th>                     </th>     <td> </td>   \n",
       "</tr>\n",
       "<tr>\n",
       "  <th>Covariance Type:</th>      <td>nonrobust</td>    <th>                     </th>     <td> </td>   \n",
       "</tr>\n",
       "</table>\n",
       "<table class=\"simpletable\">\n",
       "<tr>\n",
       "             <td></td>               <th>coef</th>     <th>std err</th>      <th>t</th>      <th>P>|t|</th>  <th>[0.025</th>    <th>0.975]</th>  \n",
       "</tr>\n",
       "<tr>\n",
       "  <th>Intercept</th>              <td> 2.064e+05</td> <td> 6.15e+04</td> <td>    3.354</td> <td> 0.001</td> <td> 8.42e+04</td> <td> 3.28e+05</td>\n",
       "</tr>\n",
       "<tr>\n",
       "  <th>C(bath)[T.2.0]</th>         <td> 1.201e+05</td> <td> 4.02e+04</td> <td>    2.990</td> <td> 0.004</td> <td> 4.04e+04</td> <td>    2e+05</td>\n",
       "</tr>\n",
       "<tr>\n",
       "  <th>C(bath)[T.3.0]</th>         <td> 2.029e+05</td> <td> 5.01e+04</td> <td>    4.050</td> <td> 0.000</td> <td> 1.03e+05</td> <td> 3.02e+05</td>\n",
       "</tr>\n",
       "<tr>\n",
       "  <th>C(bath)[T.4.0]</th>         <td> 3.248e+05</td> <td> 7.19e+04</td> <td>    4.516</td> <td> 0.000</td> <td> 1.82e+05</td> <td> 4.68e+05</td>\n",
       "</tr>\n",
       "<tr>\n",
       "  <th>C(bed)[T.2.0]</th>          <td>-1.854e+04</td> <td> 6.07e+04</td> <td>   -0.305</td> <td> 0.761</td> <td>-1.39e+05</td> <td> 1.02e+05</td>\n",
       "</tr>\n",
       "<tr>\n",
       "  <th>C(bed)[T.3.0]</th>          <td>-5.864e+04</td> <td> 6.94e+04</td> <td>   -0.844</td> <td> 0.401</td> <td>-1.96e+05</td> <td> 7.92e+04</td>\n",
       "</tr>\n",
       "<tr>\n",
       "  <th>C(bed)[T.4.0]</th>          <td>-5.058e+04</td> <td> 7.55e+04</td> <td>   -0.670</td> <td> 0.505</td> <td>-2.01e+05</td> <td> 9.94e+04</td>\n",
       "</tr>\n",
       "<tr>\n",
       "  <th>C(bed)[T.5.0]</th>          <td>-1.377e+04</td> <td> 8.73e+04</td> <td>   -0.158</td> <td> 0.875</td> <td>-1.87e+05</td> <td> 1.59e+05</td>\n",
       "</tr>\n",
       "<tr>\n",
       "  <th>C(bed)[T.6.0]</th>          <td> 6.973e+04</td> <td> 1.04e+05</td> <td>    0.671</td> <td> 0.504</td> <td>-1.37e+05</td> <td> 2.76e+05</td>\n",
       "</tr>\n",
       "<tr>\n",
       "  <th>C(classification)[T.3]</th> <td>-2.423e+04</td> <td>  2.7e+04</td> <td>   -0.896</td> <td> 0.373</td> <td>-7.79e+04</td> <td> 2.95e+04</td>\n",
       "</tr>\n",
       "<tr>\n",
       "  <th>acre_lot</th>               <td> 2.859e+04</td> <td> 6568.961</td> <td>    4.352</td> <td> 0.000</td> <td> 1.56e+04</td> <td> 4.16e+04</td>\n",
       "</tr>\n",
       "</table>\n",
       "<table class=\"simpletable\">\n",
       "<tr>\n",
       "  <th>Omnibus:</th>       <td>45.479</td> <th>  Durbin-Watson:     </th> <td>   1.950</td>\n",
       "</tr>\n",
       "<tr>\n",
       "  <th>Prob(Omnibus):</th> <td> 0.000</td> <th>  Jarque-Bera (JB):  </th> <td> 182.509</td>\n",
       "</tr>\n",
       "<tr>\n",
       "  <th>Skew:</th>          <td> 1.369</td> <th>  Prob(JB):          </th> <td>2.34e-40</td>\n",
       "</tr>\n",
       "<tr>\n",
       "  <th>Kurtosis:</th>      <td> 8.783</td> <th>  Cond. No.          </th> <td>    36.9</td>\n",
       "</tr>\n",
       "</table><br/><br/>Notes:<br/>[1] Standard Errors assume that the covariance matrix of the errors is correctly specified."
      ],
      "text/plain": [
       "<class 'statsmodels.iolib.summary.Summary'>\n",
       "\"\"\"\n",
       "                            OLS Regression Results                            \n",
       "==============================================================================\n",
       "Dep. Variable:                  price   R-squared:                       0.490\n",
       "Model:                            OLS   Adj. R-squared:                  0.437\n",
       "Method:                 Least Squares   F-statistic:                     9.219\n",
       "Date:                Tue, 15 Aug 2023   Prob (F-statistic):           1.58e-10\n",
       "Time:                        03:04:50   Log-Likelihood:                -1373.4\n",
       "No. Observations:                 107   AIC:                             2769.\n",
       "Df Residuals:                      96   BIC:                             2798.\n",
       "Df Model:                          10                                         \n",
       "Covariance Type:            nonrobust                                         \n",
       "==========================================================================================\n",
       "                             coef    std err          t      P>|t|      [0.025      0.975]\n",
       "------------------------------------------------------------------------------------------\n",
       "Intercept               2.064e+05   6.15e+04      3.354      0.001    8.42e+04    3.28e+05\n",
       "C(bath)[T.2.0]          1.201e+05   4.02e+04      2.990      0.004    4.04e+04       2e+05\n",
       "C(bath)[T.3.0]          2.029e+05   5.01e+04      4.050      0.000    1.03e+05    3.02e+05\n",
       "C(bath)[T.4.0]          3.248e+05   7.19e+04      4.516      0.000    1.82e+05    4.68e+05\n",
       "C(bed)[T.2.0]          -1.854e+04   6.07e+04     -0.305      0.761   -1.39e+05    1.02e+05\n",
       "C(bed)[T.3.0]          -5.864e+04   6.94e+04     -0.844      0.401   -1.96e+05    7.92e+04\n",
       "C(bed)[T.4.0]          -5.058e+04   7.55e+04     -0.670      0.505   -2.01e+05    9.94e+04\n",
       "C(bed)[T.5.0]          -1.377e+04   8.73e+04     -0.158      0.875   -1.87e+05    1.59e+05\n",
       "C(bed)[T.6.0]           6.973e+04   1.04e+05      0.671      0.504   -1.37e+05    2.76e+05\n",
       "C(classification)[T.3] -2.423e+04    2.7e+04     -0.896      0.373   -7.79e+04    2.95e+04\n",
       "acre_lot                2.859e+04   6568.961      4.352      0.000    1.56e+04    4.16e+04\n",
       "==============================================================================\n",
       "Omnibus:                       45.479   Durbin-Watson:                   1.950\n",
       "Prob(Omnibus):                  0.000   Jarque-Bera (JB):              182.509\n",
       "Skew:                           1.369   Prob(JB):                     2.34e-40\n",
       "Kurtosis:                       8.783   Cond. No.                         36.9\n",
       "==============================================================================\n",
       "\n",
       "Notes:\n",
       "[1] Standard Errors assume that the covariance matrix of the errors is correctly specified.\n",
       "\"\"\""
      ]
     },
     "execution_count": 262,
     "metadata": {},
     "output_type": "execute_result"
    }
   ],
   "source": [
    "penn = df[df[\"state\"] == \"Pennsylvania\"]\n",
    "model1_penn = smf.ols(formula=\"price~C(bath)+C(bed)+acre_lot+C(classification)\", data=penn).fit() \n",
    "model1_penn.summary()"
   ]
  },
  {
   "cell_type": "code",
   "execution_count": 263,
   "id": "351407ba-73a4-4cfd-a5a4-44a6a172059c",
   "metadata": {},
   "outputs": [
    {
     "data": {
      "text/html": [
       "<table class=\"simpletable\">\n",
       "<caption>OLS Regression Results</caption>\n",
       "<tr>\n",
       "  <th>Dep. Variable:</th>          <td>price</td>      <th>  R-squared:         </th> <td>   0.775</td>\n",
       "</tr>\n",
       "<tr>\n",
       "  <th>Model:</th>                   <td>OLS</td>       <th>  Adj. R-squared:    </th> <td>   0.729</td>\n",
       "</tr>\n",
       "<tr>\n",
       "  <th>Method:</th>             <td>Least Squares</td>  <th>  F-statistic:       </th> <td>   16.76</td>\n",
       "</tr>\n",
       "<tr>\n",
       "  <th>Date:</th>             <td>Tue, 15 Aug 2023</td> <th>  Prob (F-statistic):</th> <td>2.39e-09</td>\n",
       "</tr>\n",
       "<tr>\n",
       "  <th>Time:</th>                 <td>03:04:51</td>     <th>  Log-Likelihood:    </th> <td> -512.52</td>\n",
       "</tr>\n",
       "<tr>\n",
       "  <th>No. Observations:</th>      <td>    42</td>      <th>  AIC:               </th> <td>   1041.</td>\n",
       "</tr>\n",
       "<tr>\n",
       "  <th>Df Residuals:</th>          <td>    34</td>      <th>  BIC:               </th> <td>   1055.</td>\n",
       "</tr>\n",
       "<tr>\n",
       "  <th>Df Model:</th>              <td>     7</td>      <th>                     </th>     <td> </td>   \n",
       "</tr>\n",
       "<tr>\n",
       "  <th>Covariance Type:</th>      <td>nonrobust</td>    <th>                     </th>     <td> </td>   \n",
       "</tr>\n",
       "</table>\n",
       "<table class=\"simpletable\">\n",
       "<tr>\n",
       "             <td></td>               <th>coef</th>     <th>std err</th>      <th>t</th>      <th>P>|t|</th>  <th>[0.025</th>    <th>0.975]</th>  \n",
       "</tr>\n",
       "<tr>\n",
       "  <th>Intercept</th>              <td> 1.649e+05</td> <td> 3.93e+04</td> <td>    4.195</td> <td> 0.000</td> <td>  8.5e+04</td> <td> 2.45e+05</td>\n",
       "</tr>\n",
       "<tr>\n",
       "  <th>C(bath)[T.2.0]</th>         <td> 2.031e+04</td> <td> 2.37e+04</td> <td>    0.858</td> <td> 0.397</td> <td>-2.78e+04</td> <td> 6.84e+04</td>\n",
       "</tr>\n",
       "<tr>\n",
       "  <th>C(bath)[T.3.0]</th>         <td> 1.151e+05</td> <td>  2.8e+04</td> <td>    4.117</td> <td> 0.000</td> <td> 5.83e+04</td> <td> 1.72e+05</td>\n",
       "</tr>\n",
       "<tr>\n",
       "  <th>C(bath)[T.4.0]</th>         <td> 4.203e+05</td> <td> 6.22e+04</td> <td>    6.758</td> <td> 0.000</td> <td> 2.94e+05</td> <td> 5.47e+05</td>\n",
       "</tr>\n",
       "<tr>\n",
       "  <th>C(bed)[T.3.0]</th>          <td>-2.436e+04</td> <td> 4.37e+04</td> <td>   -0.557</td> <td> 0.581</td> <td>-1.13e+05</td> <td> 6.45e+04</td>\n",
       "</tr>\n",
       "<tr>\n",
       "  <th>C(bed)[T.4.0]</th>          <td> 1241.8766</td> <td> 4.64e+04</td> <td>    0.027</td> <td> 0.979</td> <td> -9.3e+04</td> <td> 9.55e+04</td>\n",
       "</tr>\n",
       "<tr>\n",
       "  <th>C(classification)[T.2]</th> <td> 4.384e+04</td> <td> 2.56e+04</td> <td>    1.710</td> <td> 0.096</td> <td>-8260.576</td> <td> 9.59e+04</td>\n",
       "</tr>\n",
       "<tr>\n",
       "  <th>acre_lot</th>               <td> 3.123e+05</td> <td>  1.3e+05</td> <td>    2.406</td> <td> 0.022</td> <td> 4.85e+04</td> <td> 5.76e+05</td>\n",
       "</tr>\n",
       "</table>\n",
       "<table class=\"simpletable\">\n",
       "<tr>\n",
       "  <th>Omnibus:</th>       <td> 4.603</td> <th>  Durbin-Watson:     </th> <td>   1.634</td>\n",
       "</tr>\n",
       "<tr>\n",
       "  <th>Prob(Omnibus):</th> <td> 0.100</td> <th>  Jarque-Bera (JB):  </th> <td>   3.849</td>\n",
       "</tr>\n",
       "<tr>\n",
       "  <th>Skew:</th>          <td>-0.380</td> <th>  Prob(JB):          </th> <td>   0.146</td>\n",
       "</tr>\n",
       "<tr>\n",
       "  <th>Kurtosis:</th>      <td> 4.274</td> <th>  Cond. No.          </th> <td>    25.2</td>\n",
       "</tr>\n",
       "</table><br/><br/>Notes:<br/>[1] Standard Errors assume that the covariance matrix of the errors is correctly specified."
      ],
      "text/plain": [
       "<class 'statsmodels.iolib.summary.Summary'>\n",
       "\"\"\"\n",
       "                            OLS Regression Results                            \n",
       "==============================================================================\n",
       "Dep. Variable:                  price   R-squared:                       0.775\n",
       "Model:                            OLS   Adj. R-squared:                  0.729\n",
       "Method:                 Least Squares   F-statistic:                     16.76\n",
       "Date:                Tue, 15 Aug 2023   Prob (F-statistic):           2.39e-09\n",
       "Time:                        03:04:51   Log-Likelihood:                -512.52\n",
       "No. Observations:                  42   AIC:                             1041.\n",
       "Df Residuals:                      34   BIC:                             1055.\n",
       "Df Model:                           7                                         \n",
       "Covariance Type:            nonrobust                                         \n",
       "==========================================================================================\n",
       "                             coef    std err          t      P>|t|      [0.025      0.975]\n",
       "------------------------------------------------------------------------------------------\n",
       "Intercept               1.649e+05   3.93e+04      4.195      0.000     8.5e+04    2.45e+05\n",
       "C(bath)[T.2.0]          2.031e+04   2.37e+04      0.858      0.397   -2.78e+04    6.84e+04\n",
       "C(bath)[T.3.0]          1.151e+05    2.8e+04      4.117      0.000    5.83e+04    1.72e+05\n",
       "C(bath)[T.4.0]          4.203e+05   6.22e+04      6.758      0.000    2.94e+05    5.47e+05\n",
       "C(bed)[T.3.0]          -2.436e+04   4.37e+04     -0.557      0.581   -1.13e+05    6.45e+04\n",
       "C(bed)[T.4.0]           1241.8766   4.64e+04      0.027      0.979    -9.3e+04    9.55e+04\n",
       "C(classification)[T.2]  4.384e+04   2.56e+04      1.710      0.096   -8260.576    9.59e+04\n",
       "acre_lot                3.123e+05    1.3e+05      2.406      0.022    4.85e+04    5.76e+05\n",
       "==============================================================================\n",
       "Omnibus:                        4.603   Durbin-Watson:                   1.634\n",
       "Prob(Omnibus):                  0.100   Jarque-Bera (JB):                3.849\n",
       "Skew:                          -0.380   Prob(JB):                        0.146\n",
       "Kurtosis:                       4.274   Cond. No.                         25.2\n",
       "==============================================================================\n",
       "\n",
       "Notes:\n",
       "[1] Standard Errors assume that the covariance matrix of the errors is correctly specified.\n",
       "\"\"\""
      ]
     },
     "execution_count": 263,
     "metadata": {},
     "output_type": "execute_result"
    }
   ],
   "source": [
    "dela = df[df[\"state\"] == \"Delaware\"]\n",
    "model1_dela = smf.ols(formula=\"price~C(bath)+C(bed)+acre_lot+C(classification)\", data=dela).fit() \n",
    "model1_dela.summary()"
   ]
  },
  {
   "cell_type": "code",
   "execution_count": 264,
   "id": "ccd224c9-f9bc-457d-b638-81660a9c71a9",
   "metadata": {},
   "outputs": [
    {
     "data": {
      "text/html": [
       "<table class=\"simpletable\">\n",
       "<caption>OLS Regression Results</caption>\n",
       "<tr>\n",
       "  <th>Dep. Variable:</th>          <td>price</td>      <th>  R-squared:         </th> <td>   0.647</td>\n",
       "</tr>\n",
       "<tr>\n",
       "  <th>Model:</th>                   <td>OLS</td>       <th>  Adj. R-squared:    </th> <td>   0.606</td>\n",
       "</tr>\n",
       "<tr>\n",
       "  <th>Method:</th>             <td>Least Squares</td>  <th>  F-statistic:       </th> <td>   15.75</td>\n",
       "</tr>\n",
       "<tr>\n",
       "  <th>Date:</th>             <td>Tue, 15 Aug 2023</td> <th>  Prob (F-statistic):</th> <td>1.20e-15</td>\n",
       "</tr>\n",
       "<tr>\n",
       "  <th>Time:</th>                 <td>03:04:51</td>     <th>  Log-Likelihood:    </th> <td> -1301.8</td>\n",
       "</tr>\n",
       "<tr>\n",
       "  <th>No. Observations:</th>      <td>    97</td>      <th>  AIC:               </th> <td>   2626.</td>\n",
       "</tr>\n",
       "<tr>\n",
       "  <th>Df Residuals:</th>          <td>    86</td>      <th>  BIC:               </th> <td>   2654.</td>\n",
       "</tr>\n",
       "<tr>\n",
       "  <th>Df Model:</th>              <td>    10</td>      <th>                     </th>     <td> </td>   \n",
       "</tr>\n",
       "<tr>\n",
       "  <th>Covariance Type:</th>      <td>nonrobust</td>    <th>                     </th>     <td> </td>   \n",
       "</tr>\n",
       "</table>\n",
       "<table class=\"simpletable\">\n",
       "<tr>\n",
       "             <td></td>               <th>coef</th>     <th>std err</th>      <th>t</th>      <th>P>|t|</th>  <th>[0.025</th>    <th>0.975]</th>  \n",
       "</tr>\n",
       "<tr>\n",
       "  <th>Intercept</th>              <td> 2.145e+05</td> <td> 1.82e+05</td> <td>    1.180</td> <td> 0.241</td> <td>-1.47e+05</td> <td> 5.76e+05</td>\n",
       "</tr>\n",
       "<tr>\n",
       "  <th>C(bath)[T.2.0]</th>         <td> 1.328e+05</td> <td> 5.32e+04</td> <td>    2.498</td> <td> 0.014</td> <td> 2.71e+04</td> <td> 2.39e+05</td>\n",
       "</tr>\n",
       "<tr>\n",
       "  <th>C(bath)[T.3.0]</th>         <td>  3.38e+05</td> <td>    6e+04</td> <td>    5.633</td> <td> 0.000</td> <td> 2.19e+05</td> <td> 4.57e+05</td>\n",
       "</tr>\n",
       "<tr>\n",
       "  <th>C(bath)[T.4.0]</th>         <td> 3.955e+05</td> <td> 8.79e+04</td> <td>    4.498</td> <td> 0.000</td> <td> 2.21e+05</td> <td>  5.7e+05</td>\n",
       "</tr>\n",
       "<tr>\n",
       "  <th>C(bed)[T.2.0]</th>          <td>-1.021e+05</td> <td> 1.79e+05</td> <td>   -0.571</td> <td> 0.570</td> <td>-4.58e+05</td> <td> 2.54e+05</td>\n",
       "</tr>\n",
       "<tr>\n",
       "  <th>C(bed)[T.3.0]</th>          <td>-4.182e+04</td> <td> 1.79e+05</td> <td>   -0.233</td> <td> 0.816</td> <td>-3.98e+05</td> <td> 3.15e+05</td>\n",
       "</tr>\n",
       "<tr>\n",
       "  <th>C(bed)[T.4.0]</th>          <td>-6.308e+04</td> <td> 1.85e+05</td> <td>   -0.342</td> <td> 0.734</td> <td> -4.3e+05</td> <td> 3.04e+05</td>\n",
       "</tr>\n",
       "<tr>\n",
       "  <th>C(bed)[T.5.0]</th>          <td>-4.633e+04</td> <td> 1.88e+05</td> <td>   -0.246</td> <td> 0.806</td> <td> -4.2e+05</td> <td> 3.28e+05</td>\n",
       "</tr>\n",
       "<tr>\n",
       "  <th>C(bed)[T.6.0]</th>          <td>-1.388e+05</td> <td> 2.12e+05</td> <td>   -0.656</td> <td> 0.514</td> <td> -5.6e+05</td> <td> 2.82e+05</td>\n",
       "</tr>\n",
       "<tr>\n",
       "  <th>C(classification)[T.3]</th> <td> 1.333e+04</td> <td> 5.58e+04</td> <td>    0.239</td> <td> 0.812</td> <td>-9.76e+04</td> <td> 1.24e+05</td>\n",
       "</tr>\n",
       "<tr>\n",
       "  <th>acre_lot</th>               <td> 3921.4701</td> <td>  597.160</td> <td>    6.567</td> <td> 0.000</td> <td> 2734.356</td> <td> 5108.585</td>\n",
       "</tr>\n",
       "</table>\n",
       "<table class=\"simpletable\">\n",
       "<tr>\n",
       "  <th>Omnibus:</th>       <td>26.832</td> <th>  Durbin-Watson:     </th> <td>   1.701</td>\n",
       "</tr>\n",
       "<tr>\n",
       "  <th>Prob(Omnibus):</th> <td> 0.000</td> <th>  Jarque-Bera (JB):  </th> <td>  49.971</td>\n",
       "</tr>\n",
       "<tr>\n",
       "  <th>Skew:</th>          <td> 1.102</td> <th>  Prob(JB):          </th> <td>1.41e-11</td>\n",
       "</tr>\n",
       "<tr>\n",
       "  <th>Kurtosis:</th>      <td> 5.740</td> <th>  Cond. No.          </th> <td>    879.</td>\n",
       "</tr>\n",
       "</table><br/><br/>Notes:<br/>[1] Standard Errors assume that the covariance matrix of the errors is correctly specified."
      ],
      "text/plain": [
       "<class 'statsmodels.iolib.summary.Summary'>\n",
       "\"\"\"\n",
       "                            OLS Regression Results                            \n",
       "==============================================================================\n",
       "Dep. Variable:                  price   R-squared:                       0.647\n",
       "Model:                            OLS   Adj. R-squared:                  0.606\n",
       "Method:                 Least Squares   F-statistic:                     15.75\n",
       "Date:                Tue, 15 Aug 2023   Prob (F-statistic):           1.20e-15\n",
       "Time:                        03:04:51   Log-Likelihood:                -1301.8\n",
       "No. Observations:                  97   AIC:                             2626.\n",
       "Df Residuals:                      86   BIC:                             2654.\n",
       "Df Model:                          10                                         \n",
       "Covariance Type:            nonrobust                                         \n",
       "==========================================================================================\n",
       "                             coef    std err          t      P>|t|      [0.025      0.975]\n",
       "------------------------------------------------------------------------------------------\n",
       "Intercept               2.145e+05   1.82e+05      1.180      0.241   -1.47e+05    5.76e+05\n",
       "C(bath)[T.2.0]          1.328e+05   5.32e+04      2.498      0.014    2.71e+04    2.39e+05\n",
       "C(bath)[T.3.0]           3.38e+05      6e+04      5.633      0.000    2.19e+05    4.57e+05\n",
       "C(bath)[T.4.0]          3.955e+05   8.79e+04      4.498      0.000    2.21e+05     5.7e+05\n",
       "C(bed)[T.2.0]          -1.021e+05   1.79e+05     -0.571      0.570   -4.58e+05    2.54e+05\n",
       "C(bed)[T.3.0]          -4.182e+04   1.79e+05     -0.233      0.816   -3.98e+05    3.15e+05\n",
       "C(bed)[T.4.0]          -6.308e+04   1.85e+05     -0.342      0.734    -4.3e+05    3.04e+05\n",
       "C(bed)[T.5.0]          -4.633e+04   1.88e+05     -0.246      0.806    -4.2e+05    3.28e+05\n",
       "C(bed)[T.6.0]          -1.388e+05   2.12e+05     -0.656      0.514    -5.6e+05    2.82e+05\n",
       "C(classification)[T.3]  1.333e+04   5.58e+04      0.239      0.812   -9.76e+04    1.24e+05\n",
       "acre_lot                3921.4701    597.160      6.567      0.000    2734.356    5108.585\n",
       "==============================================================================\n",
       "Omnibus:                       26.832   Durbin-Watson:                   1.701\n",
       "Prob(Omnibus):                  0.000   Jarque-Bera (JB):               49.971\n",
       "Skew:                           1.102   Prob(JB):                     1.41e-11\n",
       "Kurtosis:                       5.740   Cond. No.                         879.\n",
       "==============================================================================\n",
       "\n",
       "Notes:\n",
       "[1] Standard Errors assume that the covariance matrix of the errors is correctly specified.\n",
       "\"\"\""
      ]
     },
     "execution_count": 264,
     "metadata": {},
     "output_type": "execute_result"
    }
   ],
   "source": [
    "ver = df[df[\"state\"] == \"Vermont\"]\n",
    "model1_ver = smf.ols(formula=\"price~C(bath)+C(bed)+acre_lot+C(classification)\", data=ver).fit() \n",
    "model1_ver.summary()"
   ]
  },
  {
   "cell_type": "code",
   "execution_count": 265,
   "id": "aec8a057-043d-46be-8ab1-759f4a1c7d37",
   "metadata": {},
   "outputs": [
    {
     "data": {
      "text/html": [
       "<table class=\"simpletable\">\n",
       "<caption>OLS Regression Results</caption>\n",
       "<tr>\n",
       "  <th>Dep. Variable:</th>          <td>price</td>      <th>  R-squared:         </th> <td>   0.443</td>\n",
       "</tr>\n",
       "<tr>\n",
       "  <th>Model:</th>                   <td>OLS</td>       <th>  Adj. R-squared:    </th> <td>   0.386</td>\n",
       "</tr>\n",
       "<tr>\n",
       "  <th>Method:</th>             <td>Least Squares</td>  <th>  F-statistic:       </th> <td>   7.748</td>\n",
       "</tr>\n",
       "<tr>\n",
       "  <th>Date:</th>             <td>Tue, 15 Aug 2023</td> <th>  Prob (F-statistic):</th> <td>1.00e-09</td>\n",
       "</tr>\n",
       "<tr>\n",
       "  <th>Time:</th>                 <td>03:04:52</td>     <th>  Log-Likelihood:    </th> <td> -1706.0</td>\n",
       "</tr>\n",
       "<tr>\n",
       "  <th>No. Observations:</th>      <td>   119</td>      <th>  AIC:               </th> <td>   3436.</td>\n",
       "</tr>\n",
       "<tr>\n",
       "  <th>Df Residuals:</th>          <td>   107</td>      <th>  BIC:               </th> <td>   3469.</td>\n",
       "</tr>\n",
       "<tr>\n",
       "  <th>Df Model:</th>              <td>    11</td>      <th>                     </th>     <td> </td>   \n",
       "</tr>\n",
       "<tr>\n",
       "  <th>Covariance Type:</th>      <td>nonrobust</td>    <th>                     </th>     <td> </td>   \n",
       "</tr>\n",
       "</table>\n",
       "<table class=\"simpletable\">\n",
       "<tr>\n",
       "             <td></td>               <th>coef</th>     <th>std err</th>      <th>t</th>      <th>P>|t|</th>  <th>[0.025</th>    <th>0.975]</th>  \n",
       "</tr>\n",
       "<tr>\n",
       "  <th>Intercept</th>              <td> 5.086e+05</td> <td> 1.33e+05</td> <td>    3.822</td> <td> 0.000</td> <td> 2.45e+05</td> <td> 7.72e+05</td>\n",
       "</tr>\n",
       "<tr>\n",
       "  <th>C(bath)[T.2.0]</th>         <td>  2.87e+05</td> <td>  1.1e+05</td> <td>    2.603</td> <td> 0.011</td> <td> 6.85e+04</td> <td> 5.06e+05</td>\n",
       "</tr>\n",
       "<tr>\n",
       "  <th>C(bath)[T.3.0]</th>         <td> 8.042e+05</td> <td> 1.46e+05</td> <td>    5.504</td> <td> 0.000</td> <td> 5.15e+05</td> <td> 1.09e+06</td>\n",
       "</tr>\n",
       "<tr>\n",
       "  <th>C(bath)[T.4.0]</th>         <td> 1.254e+06</td> <td> 1.84e+05</td> <td>    6.806</td> <td> 0.000</td> <td> 8.89e+05</td> <td> 1.62e+06</td>\n",
       "</tr>\n",
       "<tr>\n",
       "  <th>C(bed)[T.2.0]</th>          <td> 9.584e+04</td> <td>  1.6e+05</td> <td>    0.598</td> <td> 0.551</td> <td>-2.22e+05</td> <td> 4.14e+05</td>\n",
       "</tr>\n",
       "<tr>\n",
       "  <th>C(bed)[T.3.0]</th>          <td>-2.339e+05</td> <td>  1.7e+05</td> <td>   -1.379</td> <td> 0.171</td> <td> -5.7e+05</td> <td> 1.02e+05</td>\n",
       "</tr>\n",
       "<tr>\n",
       "  <th>C(bed)[T.4.0]</th>          <td>-3.275e+04</td> <td> 1.97e+05</td> <td>   -0.166</td> <td> 0.868</td> <td>-4.23e+05</td> <td> 3.58e+05</td>\n",
       "</tr>\n",
       "<tr>\n",
       "  <th>C(bed)[T.5.0]</th>          <td>-1.505e+05</td> <td> 2.73e+05</td> <td>   -0.551</td> <td> 0.583</td> <td>-6.92e+05</td> <td> 3.91e+05</td>\n",
       "</tr>\n",
       "<tr>\n",
       "  <th>C(bed)[T.6.0]</th>          <td>-8.558e+05</td> <td> 3.56e+05</td> <td>   -2.401</td> <td> 0.018</td> <td>-1.56e+06</td> <td>-1.49e+05</td>\n",
       "</tr>\n",
       "<tr>\n",
       "  <th>C(classification)[T.2]</th> <td> -1.24e+05</td> <td> 9.69e+04</td> <td>   -1.280</td> <td> 0.203</td> <td>-3.16e+05</td> <td>  6.8e+04</td>\n",
       "</tr>\n",
       "<tr>\n",
       "  <th>C(classification)[T.3]</th> <td> 3.216e+04</td> <td> 1.57e+05</td> <td>    0.205</td> <td> 0.838</td> <td>-2.78e+05</td> <td> 3.43e+05</td>\n",
       "</tr>\n",
       "<tr>\n",
       "  <th>acre_lot</th>               <td>-1.383e+04</td> <td> 7697.589</td> <td>   -1.797</td> <td> 0.075</td> <td>-2.91e+04</td> <td> 1427.739</td>\n",
       "</tr>\n",
       "</table>\n",
       "<table class=\"simpletable\">\n",
       "<tr>\n",
       "  <th>Omnibus:</th>       <td>29.603</td> <th>  Durbin-Watson:     </th> <td>   1.524</td>\n",
       "</tr>\n",
       "<tr>\n",
       "  <th>Prob(Omnibus):</th> <td> 0.000</td> <th>  Jarque-Bera (JB):  </th> <td>  55.298</td>\n",
       "</tr>\n",
       "<tr>\n",
       "  <th>Skew:</th>          <td> 1.065</td> <th>  Prob(JB):          </th> <td>9.82e-13</td>\n",
       "</tr>\n",
       "<tr>\n",
       "  <th>Kurtosis:</th>      <td> 5.573</td> <th>  Cond. No.          </th> <td>    64.2</td>\n",
       "</tr>\n",
       "</table><br/><br/>Notes:<br/>[1] Standard Errors assume that the covariance matrix of the errors is correctly specified."
      ],
      "text/plain": [
       "<class 'statsmodels.iolib.summary.Summary'>\n",
       "\"\"\"\n",
       "                            OLS Regression Results                            \n",
       "==============================================================================\n",
       "Dep. Variable:                  price   R-squared:                       0.443\n",
       "Model:                            OLS   Adj. R-squared:                  0.386\n",
       "Method:                 Least Squares   F-statistic:                     7.748\n",
       "Date:                Tue, 15 Aug 2023   Prob (F-statistic):           1.00e-09\n",
       "Time:                        03:04:52   Log-Likelihood:                -1706.0\n",
       "No. Observations:                 119   AIC:                             3436.\n",
       "Df Residuals:                     107   BIC:                             3469.\n",
       "Df Model:                          11                                         \n",
       "Covariance Type:            nonrobust                                         \n",
       "==========================================================================================\n",
       "                             coef    std err          t      P>|t|      [0.025      0.975]\n",
       "------------------------------------------------------------------------------------------\n",
       "Intercept               5.086e+05   1.33e+05      3.822      0.000    2.45e+05    7.72e+05\n",
       "C(bath)[T.2.0]           2.87e+05    1.1e+05      2.603      0.011    6.85e+04    5.06e+05\n",
       "C(bath)[T.3.0]          8.042e+05   1.46e+05      5.504      0.000    5.15e+05    1.09e+06\n",
       "C(bath)[T.4.0]          1.254e+06   1.84e+05      6.806      0.000    8.89e+05    1.62e+06\n",
       "C(bed)[T.2.0]           9.584e+04    1.6e+05      0.598      0.551   -2.22e+05    4.14e+05\n",
       "C(bed)[T.3.0]          -2.339e+05    1.7e+05     -1.379      0.171    -5.7e+05    1.02e+05\n",
       "C(bed)[T.4.0]          -3.275e+04   1.97e+05     -0.166      0.868   -4.23e+05    3.58e+05\n",
       "C(bed)[T.5.0]          -1.505e+05   2.73e+05     -0.551      0.583   -6.92e+05    3.91e+05\n",
       "C(bed)[T.6.0]          -8.558e+05   3.56e+05     -2.401      0.018   -1.56e+06   -1.49e+05\n",
       "C(classification)[T.2]  -1.24e+05   9.69e+04     -1.280      0.203   -3.16e+05     6.8e+04\n",
       "C(classification)[T.3]  3.216e+04   1.57e+05      0.205      0.838   -2.78e+05    3.43e+05\n",
       "acre_lot               -1.383e+04   7697.589     -1.797      0.075   -2.91e+04    1427.739\n",
       "==============================================================================\n",
       "Omnibus:                       29.603   Durbin-Watson:                   1.524\n",
       "Prob(Omnibus):                  0.000   Jarque-Bera (JB):               55.298\n",
       "Skew:                           1.065   Prob(JB):                     9.82e-13\n",
       "Kurtosis:                       5.573   Cond. No.                         64.2\n",
       "==============================================================================\n",
       "\n",
       "Notes:\n",
       "[1] Standard Errors assume that the covariance matrix of the errors is correctly specified.\n",
       "\"\"\""
      ]
     },
     "execution_count": 265,
     "metadata": {},
     "output_type": "execute_result"
    }
   ],
   "source": [
    "mass = df[df[\"state\"] == \"Massachusetts\"]\n",
    "model1_mass = smf.ols(formula=\"price~C(bath)+C(bed)+acre_lot+C(classification)\", data=mass).fit() \n",
    "model1_mass.summary()"
   ]
  },
  {
   "cell_type": "markdown",
   "id": "ca74c6c8-6e83-485f-80b8-76ffef9a1b96",
   "metadata": {},
   "source": [
    "As you can see testing these four individual states the results are improved. The $r^2$ for Vermont is $0.744$ which is a huge improvement from the initial results.\n",
    "\n",
    "### The Return of the Zip Code\n",
    "\n",
    "During the initial set up where the model was going to use all the states using zip codes wasn't going to be an option as there were just too many of them. This meant that clustering them in a useable way also meant losing all of the value in the model. Looking at an individual state might just allow zip codes to be brought back. They will still have to be clustered as even in individual states there are too many to be used as categorical data. This clustering can be done be using the first three digits of the zip code."
   ]
  },
  {
   "cell_type": "code",
   "execution_count": 268,
   "id": "9862c2e5-436c-4c12-920d-b9396591c257",
   "metadata": {},
   "outputs": [
    {
     "name": "stderr",
     "output_type": "stream",
     "text": [
      "/tmp/ipykernel_231/2657450456.py:2: SettingWithCopyWarning: \n",
      "A value is trying to be set on a copy of a slice from a DataFrame.\n",
      "Try using .loc[row_indexer,col_indexer] = value instead\n",
      "\n",
      "See the caveats in the documentation: https://pandas.pydata.org/pandas-docs/stable/user_guide/indexing.html#returning-a-view-versus-a-copy\n",
      "  mass_test[\"zip_reduce\"] = mass_test[\"zip_code\"].map(lambda x: x - x%100)\n"
     ]
    },
    {
     "data": {
      "text/html": [
       "<table class=\"simpletable\">\n",
       "<caption>OLS Regression Results</caption>\n",
       "<tr>\n",
       "  <th>Dep. Variable:</th>          <td>price</td>      <th>  R-squared:         </th> <td>   0.719</td>\n",
       "</tr>\n",
       "<tr>\n",
       "  <th>Model:</th>                   <td>OLS</td>       <th>  Adj. R-squared:    </th> <td>   0.647</td>\n",
       "</tr>\n",
       "<tr>\n",
       "  <th>Method:</th>             <td>Least Squares</td>  <th>  F-statistic:       </th> <td>   10.01</td>\n",
       "</tr>\n",
       "<tr>\n",
       "  <th>Date:</th>             <td>Tue, 15 Aug 2023</td> <th>  Prob (F-statistic):</th> <td>8.51e-17</td>\n",
       "</tr>\n",
       "<tr>\n",
       "  <th>Time:</th>                 <td>03:14:12</td>     <th>  Log-Likelihood:    </th> <td> -1665.4</td>\n",
       "</tr>\n",
       "<tr>\n",
       "  <th>No. Observations:</th>      <td>   119</td>      <th>  AIC:               </th> <td>   3381.</td>\n",
       "</tr>\n",
       "<tr>\n",
       "  <th>Df Residuals:</th>          <td>    94</td>      <th>  BIC:               </th> <td>   3450.</td>\n",
       "</tr>\n",
       "<tr>\n",
       "  <th>Df Model:</th>              <td>    24</td>      <th>                     </th>     <td> </td>   \n",
       "</tr>\n",
       "<tr>\n",
       "  <th>Covariance Type:</th>      <td>nonrobust</td>    <th>                     </th>     <td> </td>   \n",
       "</tr>\n",
       "</table>\n",
       "<table class=\"simpletable\">\n",
       "<tr>\n",
       "             <td></td>                <th>coef</th>     <th>std err</th>      <th>t</th>      <th>P>|t|</th>  <th>[0.025</th>    <th>0.975]</th>  \n",
       "</tr>\n",
       "<tr>\n",
       "  <th>Intercept</th>               <td>  1.03e+04</td> <td> 1.23e+05</td> <td>    0.084</td> <td> 0.933</td> <td>-2.33e+05</td> <td> 2.54e+05</td>\n",
       "</tr>\n",
       "<tr>\n",
       "  <th>C(bath)[T.2.0]</th>          <td> 2.069e+05</td> <td> 9.22e+04</td> <td>    2.243</td> <td> 0.027</td> <td> 2.38e+04</td> <td>  3.9e+05</td>\n",
       "</tr>\n",
       "<tr>\n",
       "  <th>C(bath)[T.3.0]</th>          <td> 5.222e+05</td> <td> 1.17e+05</td> <td>    4.453</td> <td> 0.000</td> <td> 2.89e+05</td> <td> 7.55e+05</td>\n",
       "</tr>\n",
       "<tr>\n",
       "  <th>C(bath)[T.4.0]</th>          <td> 7.822e+05</td> <td> 1.64e+05</td> <td>    4.761</td> <td> 0.000</td> <td> 4.56e+05</td> <td> 1.11e+06</td>\n",
       "</tr>\n",
       "<tr>\n",
       "  <th>C(bed)[T.2.0]</th>           <td> 3.114e+04</td> <td> 1.24e+05</td> <td>    0.251</td> <td> 0.802</td> <td>-2.15e+05</td> <td> 2.77e+05</td>\n",
       "</tr>\n",
       "<tr>\n",
       "  <th>C(bed)[T.3.0]</th>           <td>-1917.0626</td> <td>  1.4e+05</td> <td>   -0.014</td> <td> 0.989</td> <td> -2.8e+05</td> <td> 2.76e+05</td>\n",
       "</tr>\n",
       "<tr>\n",
       "  <th>C(bed)[T.4.0]</th>           <td> 2.209e+05</td> <td> 1.57e+05</td> <td>    1.410</td> <td> 0.162</td> <td>-9.02e+04</td> <td> 5.32e+05</td>\n",
       "</tr>\n",
       "<tr>\n",
       "  <th>C(bed)[T.5.0]</th>           <td> 1.761e+05</td> <td> 2.25e+05</td> <td>    0.782</td> <td> 0.436</td> <td>-2.71e+05</td> <td> 6.23e+05</td>\n",
       "</tr>\n",
       "<tr>\n",
       "  <th>C(bed)[T.6.0]</th>           <td>-2.071e+05</td> <td>  2.9e+05</td> <td>   -0.714</td> <td> 0.477</td> <td>-7.83e+05</td> <td> 3.69e+05</td>\n",
       "</tr>\n",
       "<tr>\n",
       "  <th>C(zip_reduce)[T.1100.0]</th> <td> 7.116e+04</td> <td> 1.55e+05</td> <td>    0.460</td> <td> 0.647</td> <td>-2.36e+05</td> <td> 3.79e+05</td>\n",
       "</tr>\n",
       "<tr>\n",
       "  <th>C(zip_reduce)[T.1200.0]</th> <td> 5.092e+05</td> <td> 3.47e+05</td> <td>    1.468</td> <td> 0.145</td> <td>-1.79e+05</td> <td>  1.2e+06</td>\n",
       "</tr>\n",
       "<tr>\n",
       "  <th>C(zip_reduce)[T.1500.0]</th> <td> 1.198e+05</td> <td> 2.21e+05</td> <td>    0.542</td> <td> 0.589</td> <td>-3.19e+05</td> <td> 5.59e+05</td>\n",
       "</tr>\n",
       "<tr>\n",
       "  <th>C(zip_reduce)[T.1600.0]</th> <td> 8.175e+04</td> <td> 3.46e+05</td> <td>    0.236</td> <td> 0.814</td> <td>-6.05e+05</td> <td> 7.68e+05</td>\n",
       "</tr>\n",
       "<tr>\n",
       "  <th>C(zip_reduce)[T.1700.0]</th> <td> 3.527e+05</td> <td> 3.65e+05</td> <td>    0.965</td> <td> 0.337</td> <td>-3.73e+05</td> <td> 1.08e+06</td>\n",
       "</tr>\n",
       "<tr>\n",
       "  <th>C(zip_reduce)[T.1800.0]</th> <td> 3.327e+05</td> <td> 2.16e+05</td> <td>    1.538</td> <td> 0.127</td> <td>-9.68e+04</td> <td> 7.62e+05</td>\n",
       "</tr>\n",
       "<tr>\n",
       "  <th>C(zip_reduce)[T.1900.0]</th> <td> 4.676e+05</td> <td> 1.33e+05</td> <td>    3.504</td> <td> 0.001</td> <td> 2.03e+05</td> <td> 7.33e+05</td>\n",
       "</tr>\n",
       "<tr>\n",
       "  <th>C(zip_reduce)[T.2000.0]</th> <td> 2.017e+05</td> <td> 1.53e+05</td> <td>    1.317</td> <td> 0.191</td> <td>-1.02e+05</td> <td> 5.06e+05</td>\n",
       "</tr>\n",
       "<tr>\n",
       "  <th>C(zip_reduce)[T.2100.0]</th> <td> 5.619e+05</td> <td> 1.18e+05</td> <td>    4.782</td> <td> 0.000</td> <td> 3.29e+05</td> <td> 7.95e+05</td>\n",
       "</tr>\n",
       "<tr>\n",
       "  <th>C(zip_reduce)[T.2200.0]</th> <td> 1.643e+06</td> <td> 2.61e+05</td> <td>    6.296</td> <td> 0.000</td> <td> 1.12e+06</td> <td> 2.16e+06</td>\n",
       "</tr>\n",
       "<tr>\n",
       "  <th>C(zip_reduce)[T.2300.0]</th> <td> 2.803e+05</td> <td> 2.04e+05</td> <td>    1.373</td> <td> 0.173</td> <td>-1.25e+05</td> <td> 6.86e+05</td>\n",
       "</tr>\n",
       "<tr>\n",
       "  <th>C(zip_reduce)[T.2400.0]</th> <td> 6.844e+05</td> <td>  1.6e+05</td> <td>    4.278</td> <td> 0.000</td> <td> 3.67e+05</td> <td>    1e+06</td>\n",
       "</tr>\n",
       "<tr>\n",
       "  <th>C(zip_reduce)[T.2500.0]</th> <td>  9.47e+05</td> <td> 1.19e+05</td> <td>    7.982</td> <td> 0.000</td> <td> 7.11e+05</td> <td> 1.18e+06</td>\n",
       "</tr>\n",
       "<tr>\n",
       "  <th>C(zip_reduce)[T.2600.0]</th> <td> 4.799e+05</td> <td> 1.34e+05</td> <td>    3.568</td> <td> 0.001</td> <td> 2.13e+05</td> <td> 7.47e+05</td>\n",
       "</tr>\n",
       "<tr>\n",
       "  <th>C(zip_reduce)[T.2700.0]</th> <td> 4.946e+05</td> <td> 2.44e+05</td> <td>    2.024</td> <td> 0.046</td> <td> 9362.721</td> <td>  9.8e+05</td>\n",
       "</tr>\n",
       "<tr>\n",
       "  <th>acre_lot</th>                <td>-2273.5257</td> <td> 7358.445</td> <td>   -0.309</td> <td> 0.758</td> <td>-1.69e+04</td> <td> 1.23e+04</td>\n",
       "</tr>\n",
       "</table>\n",
       "<table class=\"simpletable\">\n",
       "<tr>\n",
       "  <th>Omnibus:</th>       <td>26.674</td> <th>  Durbin-Watson:     </th> <td>   2.017</td>\n",
       "</tr>\n",
       "<tr>\n",
       "  <th>Prob(Omnibus):</th> <td> 0.000</td> <th>  Jarque-Bera (JB):  </th> <td> 124.191</td>\n",
       "</tr>\n",
       "<tr>\n",
       "  <th>Skew:</th>          <td> 0.562</td> <th>  Prob(JB):          </th> <td>1.08e-27</td>\n",
       "</tr>\n",
       "<tr>\n",
       "  <th>Kurtosis:</th>      <td> 7.877</td> <th>  Cond. No.          </th> <td>    84.7</td>\n",
       "</tr>\n",
       "</table><br/><br/>Notes:<br/>[1] Standard Errors assume that the covariance matrix of the errors is correctly specified."
      ],
      "text/plain": [
       "<class 'statsmodels.iolib.summary.Summary'>\n",
       "\"\"\"\n",
       "                            OLS Regression Results                            \n",
       "==============================================================================\n",
       "Dep. Variable:                  price   R-squared:                       0.719\n",
       "Model:                            OLS   Adj. R-squared:                  0.647\n",
       "Method:                 Least Squares   F-statistic:                     10.01\n",
       "Date:                Tue, 15 Aug 2023   Prob (F-statistic):           8.51e-17\n",
       "Time:                        03:14:12   Log-Likelihood:                -1665.4\n",
       "No. Observations:                 119   AIC:                             3381.\n",
       "Df Residuals:                      94   BIC:                             3450.\n",
       "Df Model:                          24                                         \n",
       "Covariance Type:            nonrobust                                         \n",
       "===========================================================================================\n",
       "                              coef    std err          t      P>|t|      [0.025      0.975]\n",
       "-------------------------------------------------------------------------------------------\n",
       "Intercept                 1.03e+04   1.23e+05      0.084      0.933   -2.33e+05    2.54e+05\n",
       "C(bath)[T.2.0]           2.069e+05   9.22e+04      2.243      0.027    2.38e+04     3.9e+05\n",
       "C(bath)[T.3.0]           5.222e+05   1.17e+05      4.453      0.000    2.89e+05    7.55e+05\n",
       "C(bath)[T.4.0]           7.822e+05   1.64e+05      4.761      0.000    4.56e+05    1.11e+06\n",
       "C(bed)[T.2.0]            3.114e+04   1.24e+05      0.251      0.802   -2.15e+05    2.77e+05\n",
       "C(bed)[T.3.0]           -1917.0626    1.4e+05     -0.014      0.989    -2.8e+05    2.76e+05\n",
       "C(bed)[T.4.0]            2.209e+05   1.57e+05      1.410      0.162   -9.02e+04    5.32e+05\n",
       "C(bed)[T.5.0]            1.761e+05   2.25e+05      0.782      0.436   -2.71e+05    6.23e+05\n",
       "C(bed)[T.6.0]           -2.071e+05    2.9e+05     -0.714      0.477   -7.83e+05    3.69e+05\n",
       "C(zip_reduce)[T.1100.0]  7.116e+04   1.55e+05      0.460      0.647   -2.36e+05    3.79e+05\n",
       "C(zip_reduce)[T.1200.0]  5.092e+05   3.47e+05      1.468      0.145   -1.79e+05     1.2e+06\n",
       "C(zip_reduce)[T.1500.0]  1.198e+05   2.21e+05      0.542      0.589   -3.19e+05    5.59e+05\n",
       "C(zip_reduce)[T.1600.0]  8.175e+04   3.46e+05      0.236      0.814   -6.05e+05    7.68e+05\n",
       "C(zip_reduce)[T.1700.0]  3.527e+05   3.65e+05      0.965      0.337   -3.73e+05    1.08e+06\n",
       "C(zip_reduce)[T.1800.0]  3.327e+05   2.16e+05      1.538      0.127   -9.68e+04    7.62e+05\n",
       "C(zip_reduce)[T.1900.0]  4.676e+05   1.33e+05      3.504      0.001    2.03e+05    7.33e+05\n",
       "C(zip_reduce)[T.2000.0]  2.017e+05   1.53e+05      1.317      0.191   -1.02e+05    5.06e+05\n",
       "C(zip_reduce)[T.2100.0]  5.619e+05   1.18e+05      4.782      0.000    3.29e+05    7.95e+05\n",
       "C(zip_reduce)[T.2200.0]  1.643e+06   2.61e+05      6.296      0.000    1.12e+06    2.16e+06\n",
       "C(zip_reduce)[T.2300.0]  2.803e+05   2.04e+05      1.373      0.173   -1.25e+05    6.86e+05\n",
       "C(zip_reduce)[T.2400.0]  6.844e+05    1.6e+05      4.278      0.000    3.67e+05       1e+06\n",
       "C(zip_reduce)[T.2500.0]   9.47e+05   1.19e+05      7.982      0.000    7.11e+05    1.18e+06\n",
       "C(zip_reduce)[T.2600.0]  4.799e+05   1.34e+05      3.568      0.001    2.13e+05    7.47e+05\n",
       "C(zip_reduce)[T.2700.0]  4.946e+05   2.44e+05      2.024      0.046    9362.721     9.8e+05\n",
       "acre_lot                -2273.5257   7358.445     -0.309      0.758   -1.69e+04    1.23e+04\n",
       "==============================================================================\n",
       "Omnibus:                       26.674   Durbin-Watson:                   2.017\n",
       "Prob(Omnibus):                  0.000   Jarque-Bera (JB):              124.191\n",
       "Skew:                           0.562   Prob(JB):                     1.08e-27\n",
       "Kurtosis:                       7.877   Cond. No.                         84.7\n",
       "==============================================================================\n",
       "\n",
       "Notes:\n",
       "[1] Standard Errors assume that the covariance matrix of the errors is correctly specified.\n",
       "\"\"\""
      ]
     },
     "execution_count": 268,
     "metadata": {},
     "output_type": "execute_result"
    }
   ],
   "source": [
    "mass_test = mass\n",
    "mass_test[\"zip_reduce\"] = mass_test[\"zip_code\"].map(lambda x: x - x%100)\n",
    "model1_mass_test = smf.ols(formula=\"price~C(bath)+C(bed)+acre_lot+C(zip_reduce)\", data=mass_test).fit() \n",
    "model1_mass_test.summary()\n"
   ]
  },
  {
   "cell_type": "markdown",
   "id": "057ca0a2-cf2d-44da-9ba8-7aedc4059506",
   "metadata": {},
   "source": [
    "Looking at this new model for the state of Massachusetts the $r^2$ has improved by quite a bit. The $r^2$ and $adj\\_r^2$ improved by $0.276$ and $0.261$ respectively. The $r^2$ of $0.719$ means there is a fairly strong effect size displayed by this model.\n",
    "\n",
    "### Let's Predict Something\n",
    "\n",
    "Now that we have a decent model for home prices in Massachusetts we can use said model to predict the prices of homes. I picked some homes from the dataset, they weren't exactly randomly picked but I picked them based off of only a list of the index values."
   ]
  },
  {
   "cell_type": "code",
   "execution_count": 288,
   "id": "e24fb96f-d647-4a87-ae2f-85598e3d24dc",
   "metadata": {},
   "outputs": [
    {
     "name": "stdout",
     "output_type": "stream",
     "text": [
      "Predicted home value: 437745.62601592\n",
      "Actual home value: 375000\n",
      "Difference: 62745.62601592002\n"
     ]
    }
   ],
   "source": [
    "yhat = model1_mass_test.predict(mass)\n",
    "print(\"Predicted home value:\", yhat[4])\n",
    "print(\"Actual home value:\", mass[\"price\"].loc[[4]].values[0])\n",
    "print(\"Difference:\", yhat[4] - mass[\"price\"].loc[[4]].values[0])"
   ]
  },
  {
   "cell_type": "code",
   "execution_count": 295,
   "id": "a806b091-dad3-4326-9261-8d45f80d179b",
   "metadata": {},
   "outputs": [
    {
     "name": "stdout",
     "output_type": "stream",
     "text": [
      "Predicted home value: 214521.90203388146\n",
      "Actual home value: 299413\n",
      "Difference: -84891.09796611854\n"
     ]
    }
   ],
   "source": [
    "yhat = model1_mass_test.predict(mass)\n",
    "print(\"Predicted home value:\", yhat[27])\n",
    "print(\"Actual home value:\", mass[\"price\"].loc[[27]].values[0])\n",
    "print(\"Difference:\", yhat[27] - mass[\"price\"].loc[[27]].values[0])"
   ]
  },
  {
   "cell_type": "code",
   "execution_count": 296,
   "id": "f56b2d8d-da15-42ab-b588-526b2e699800",
   "metadata": {},
   "outputs": [
    {
     "name": "stdout",
     "output_type": "stream",
     "text": [
      "Predicted home value: 549999.9999999992\n",
      "Actual home value: 550000\n",
      "Difference: -8.149072527885437e-10\n"
     ]
    }
   ],
   "source": [
    "yhat = model1_mass_test.predict(mass)\n",
    "print(\"Predicted home value:\", yhat[295])\n",
    "print(\"Actual home value:\", mass[\"price\"].loc[[295]].values[0])\n",
    "print(\"Difference:\", yhat[295] - mass[\"price\"].loc[[295]].values[0])"
   ]
  },
  {
   "cell_type": "code",
   "execution_count": 297,
   "id": "1b437fa0-c272-41c4-831d-2ebde8a0c196",
   "metadata": {},
   "outputs": [
    {
     "name": "stdout",
     "output_type": "stream",
     "text": [
      "Predicted home value: 1364999.9999999972\n",
      "Actual home value: 1365000\n",
      "Difference: -2.7939677238464355e-09\n"
     ]
    }
   ],
   "source": [
    "yhat = model1_mass_test.predict(mass)\n",
    "print(\"Predicted home value:\", yhat[515])\n",
    "print(\"Actual home value:\", mass[\"price\"].loc[[515]].values[0])\n",
    "print(\"Difference:\", yhat[515] - mass[\"price\"].loc[[515]].values[0])"
   ]
  },
  {
   "cell_type": "code",
   "execution_count": 299,
   "id": "253c086f-4c05-4644-8c60-72ae9197014f",
   "metadata": {},
   "outputs": [
    {
     "name": "stdout",
     "output_type": "stream",
     "text": [
      "Predicted home value: 769938.3351230803\n",
      "Actual home value: 719900\n",
      "Difference: 50038.335123080295\n"
     ]
    }
   ],
   "source": [
    "yhat = model1_mass_test.predict(mass)\n",
    "print(\"Predicted home value:\", yhat[863])\n",
    "print(\"Actual home value:\", mass[\"price\"].loc[[863]].values[0])\n",
    "print(\"Difference:\", yhat[863] - mass[\"price\"].loc[[863]].values[0])"
   ]
  },
  {
   "cell_type": "code",
   "execution_count": 300,
   "id": "60bcc224-a324-4602-b5b7-f74ca1194cbe",
   "metadata": {},
   "outputs": [
    {
     "name": "stdout",
     "output_type": "stream",
     "text": [
      "Predicted home value: 520760.12361177587\n",
      "Actual home value: 499000\n",
      "Difference: 21760.123611775867\n"
     ]
    }
   ],
   "source": [
    "yhat = model1_mass_test.predict(mass)\n",
    "print(\"Predicted home value:\", yhat[946])\n",
    "print(\"Actual home value:\", mass[\"price\"].loc[[946]].values[0])\n",
    "print(\"Difference:\", yhat[946] - mass[\"price\"].loc[[946]].values[0])"
   ]
  },
  {
   "cell_type": "markdown",
   "id": "73d261b9-9abc-419a-9630-191d4253a35e",
   "metadata": {},
   "source": [
    "## Conclusions\n",
    "\n",
    "- Location plays a noticable role in home value. Before the zip code data could be brought back into the model the model's effectiveness wasn't looking too good. The $r^2$ increase by $0.276$ when the clustered zip code data was used in the model.\n",
    "- House statistics are strongly correlated. The result of the VIF speaks for itself, there was a large amount of colinearity. I mitigated this somewhat by removing house_size from the model however there is probably more correlation between variable than is ideal. \n",
    "- Predicting home values with a model like this can give oddly close predictions as well as wildly incorrect predictions. Two of the predicted values were all but exactly correct where as another prediction was off by almost $85,000."
   ]
  },
  {
   "cell_type": "code",
   "execution_count": null,
   "id": "c5bd3376-39e1-4c55-8ec3-83c99435efff",
   "metadata": {},
   "outputs": [],
   "source": []
  }
 ],
 "metadata": {
  "kernelspec": {
   "display_name": "Python 3 (ipykernel)",
   "language": "python",
   "name": "python3"
  },
  "language_info": {
   "codemirror_mode": {
    "name": "ipython",
    "version": 3
   },
   "file_extension": ".py",
   "mimetype": "text/x-python",
   "name": "python",
   "nbconvert_exporter": "python",
   "pygments_lexer": "ipython3",
   "version": "3.10.8"
  }
 },
 "nbformat": 4,
 "nbformat_minor": 5
}
